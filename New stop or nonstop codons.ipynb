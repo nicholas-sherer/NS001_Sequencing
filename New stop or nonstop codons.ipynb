{
 "cells": [
  {
   "cell_type": "code",
   "execution_count": 1,
   "metadata": {},
   "outputs": [],
   "source": [
    "from sqlalchemy import create_engine\n",
    "from sqlalchemy.orm import sessionmaker\n",
    "import numpy as np\n",
    "import pandas as pd\n",
    "\n",
    "import SequenceDataORM as sqd\n",
    "\n",
    "import matplotlib.pyplot as plt\n",
    "import seaborn as sns\n",
    "%matplotlib inline"
   ]
  },
  {
   "cell_type": "code",
   "execution_count": 2,
   "metadata": {},
   "outputs": [],
   "source": [
    "engine = create_engine('sqlite:///NS001_evolved_mutations_copy2.db', echo=False) # our database connection\n",
    "session = sessionmaker(bind=engine)() # the session object is how we make queries through sqlalchemy"
   ]
  },
  {
   "cell_type": "markdown",
   "metadata": {},
   "source": [
    "# How many mutations created a new stop codon?\n",
    "\n",
    "Breseq refers to stop codons with the \\'\\*\\' character."
   ]
  },
  {
   "cell_type": "code",
   "execution_count": 3,
   "metadata": {},
   "outputs": [],
   "source": [
    "stop_mutations = [mutation for mutation in (session.query(sqd.SNP_Mutation)\n",
    "                                                   .filter(sqd.SNP_Mutation.new_aa=='*')\n",
    "                                                   .filter(sqd.SNP_Mutation.ref_aa!='*'))]"
   ]
  },
  {
   "cell_type": "code",
   "execution_count": 4,
   "metadata": {},
   "outputs": [
    {
     "data": {
      "text/plain": [
       "26"
      ]
     },
     "execution_count": 4,
     "metadata": {},
     "output_type": "execute_result"
    }
   ],
   "source": [
    "len(stop_mutations)"
   ]
  },
  {
   "cell_type": "code",
   "execution_count": 5,
   "metadata": {},
   "outputs": [
    {
     "data": {
      "text/plain": [
       "823"
      ]
     },
     "execution_count": 5,
     "metadata": {},
     "output_type": "execute_result"
    }
   ],
   "source": [
    "len([mutation for mutation in session.query(sqd.SNP_Mutation).filter(sqd.SNP_Mutation.intergenic_left==None)])"
   ]
  },
  {
   "cell_type": "markdown",
   "metadata": {},
   "source": [
    "There are a decent number of stop mutations. Perhaps fewer than expected? Assuming any codon is equally likely to occur post mutations you'd expect about 3/64 mutations to create a stop codon. 3/64 * 823 = 38.6"
   ]
  },
  {
   "cell_type": "code",
   "execution_count": 6,
   "metadata": {},
   "outputs": [],
   "source": [
    "stop_ev = [x for x in (session.query(sqd.SNP_Evidence)\n",
    "                              .join(sqd.SNP_Mutation)\n",
    "                              .filter(sqd.SNP_Mutation.new_aa=='*')\n",
    "                              .filter(sqd.SNP_Mutation.ref_aa!='*')\n",
    "                              .order_by(sqd.SNP_Evidence.chr_position))]"
   ]
  },
  {
   "cell_type": "code",
   "execution_count": 7,
   "metadata": {},
   "outputs": [
    {
     "data": {
      "text/plain": [
       "35"
      ]
     },
     "execution_count": 7,
     "metadata": {},
     "output_type": "execute_result"
    }
   ],
   "source": [
    "len(stop_ev)"
   ]
  },
  {
   "cell_type": "code",
   "execution_count": 8,
   "metadata": {},
   "outputs": [
    {
     "data": {
      "text/plain": [
       "1143"
      ]
     },
     "execution_count": 8,
     "metadata": {},
     "output_type": "execute_result"
    }
   ],
   "source": [
    "len([ev for ev in (session.query(sqd.SNP_Evidence)\n",
    "                          .join(sqd.SNP_Mutation)\n",
    "                          .filter(sqd.SNP_Mutation.intergenic_left==None) #ignore mutations that aren't in coding region\n",
    "                          .filter(~sqd.SNP_Evidence.sample.in_(['Aggregate_NS001_Ancestors',\n",
    "                                                               'Ancestor_S1',\n",
    "                                                               'Ancestor_S2',\n",
    "                                                               'Ancestor_S3'])))])"
   ]
  },
  {
   "cell_type": "code",
   "execution_count": 1,
   "metadata": {},
   "outputs": [
    {
     "data": {
      "text/plain": [
       "53.578125"
      ]
     },
     "execution_count": 1,
     "metadata": {},
     "output_type": "execute_result"
    }
   ],
   "source": [
    "3/64*1143"
   ]
  },
  {
   "cell_type": "markdown",
   "metadata": {},
   "source": [
    "Looking the evidence, again it looks like there may be fewer stop codon mutations than expected. 3/64 * 1143 = 53.6."
   ]
  },
  {
   "cell_type": "code",
   "execution_count": 9,
   "metadata": {},
   "outputs": [
    {
     "name": "stdout",
     "output_type": "stream",
     "text": [
      "<SNP_Evidence(sample=LoMid1t1_S1, chr_position=26063, ref_base=C, new_base=T)> 0.0555009842\n",
      "<SNP_Evidence(sample=Lo1t1_S1, chr_position=170054, ref_base=C, new_base=T)> 0.144515038\n",
      "<SNP_Evidence(sample=Mid1t1_S1, chr_position=302668, ref_base=G, new_base=T)> 0.0911693573\n",
      "<SNP_Evidence(sample=Hi4t2_S1, chr_position=622512, ref_base=T, new_base=A)> 0.136445999\n",
      "<SNP_Evidence(sample=HiMid1t1_S1, chr_position=883902, ref_base=C, new_base=T)> 0.194756508\n",
      "<SNP_Evidence(sample=Lo3t1_S1, chr_position=1688871, ref_base=C, new_base=T)> 0.10782671\n",
      "<SNP_Evidence(sample=HiMid2t1_S1, chr_position=1760934, ref_base=G, new_base=A)> 0.0799436569\n",
      "<SNP_Evidence(sample=Lo2t1_S1, chr_position=1760934, ref_base=G, new_base=A)> 0.0587720871\n",
      "<SNP_Evidence(sample=Lo2t2_S1, chr_position=1760934, ref_base=G, new_base=A)> 0.800232887\n",
      "<SNP_Evidence(sample=Lo4t1_S1, chr_position=1760934, ref_base=G, new_base=A)> 0.0683875084\n",
      "<SNP_Evidence(sample=Lo4t2_S1, chr_position=1760934, ref_base=G, new_base=A)> 0.150085926\n",
      "<SNP_Evidence(sample=LoMid4t1_S1, chr_position=1760934, ref_base=G, new_base=A)> 0.0925116539\n",
      "<SNP_Evidence(sample=LoMid4t2_S1, chr_position=1760934, ref_base=G, new_base=A)> 0.258062363\n",
      "<SNP_Evidence(sample=Mid2t1_S1, chr_position=1760934, ref_base=G, new_base=A)> 0.106333256\n",
      "<SNP_Evidence(sample=Mid2t2_S1, chr_position=1760934, ref_base=G, new_base=A)> 0.114959717\n",
      "<SNP_Evidence(sample=Hi3t1_S1, chr_position=1762024, ref_base=G, new_base=A)> 0.0707144737\n",
      "<SNP_Evidence(sample=HiMid4t1_S1, chr_position=2271476, ref_base=G, new_base=A)> 0.0655198097\n",
      "<SNP_Evidence(sample=HiMid4t2_S1, chr_position=2271476, ref_base=G, new_base=A)> 0.115738869\n",
      "<SNP_Evidence(sample=Hi3t1_S1, chr_position=2324306, ref_base=T, new_base=A)> 0.0665998459\n",
      "<SNP_Evidence(sample=Hi3t2_S1, chr_position=2372877, ref_base=G, new_base=A)> 0.0630607605\n",
      "<SNP_Evidence(sample=HiMid4t2_S1, chr_position=2409678, ref_base=G, new_base=A)> 0.0586571693\n",
      "<SNP_Evidence(sample=LoMid2t1_S1, chr_position=2463696, ref_base=C, new_base=T)> 0.0562691689\n",
      "<SNP_Evidence(sample=Hi1t2_S1, chr_position=2594217, ref_base=G, new_base=A)> 0.104753494\n",
      "<SNP_Evidence(sample=HiMid3t2_S1, chr_position=2793111, ref_base=A, new_base=T)> 0.0547680855\n",
      "<SNP_Evidence(sample=HiMid1t2_S1, chr_position=2806031, ref_base=G, new_base=A)> 0.425341129\n",
      "<SNP_Evidence(sample=Mid4t2_S1, chr_position=2908327, ref_base=G, new_base=T)> 0.0604729652\n",
      "<SNP_Evidence(sample=Hi3t2_S1, chr_position=2967940, ref_base=G, new_base=A)> 0.339678288\n",
      "<SNP_Evidence(sample=Hi3t2_S1, chr_position=2968045, ref_base=G, new_base=A)> 0.0741372108\n",
      "<SNP_Evidence(sample=HiMid1t1_S1, chr_position=3230005, ref_base=G, new_base=A)> 0.0579123497\n",
      "<SNP_Evidence(sample=Mid2t2_S1, chr_position=3628887, ref_base=C, new_base=T)> 0.063536644\n",
      "<SNP_Evidence(sample=Hi3t2_S1, chr_position=3686628, ref_base=C, new_base=T)> 0.305223465\n",
      "<SNP_Evidence(sample=Lo1t1_S1, chr_position=3702393, ref_base=A, new_base=T)> 0.0598526001\n",
      "<SNP_Evidence(sample=Mid1t1_S1, chr_position=4150245, ref_base=G, new_base=A)> 0.0817813873\n",
      "<SNP_Evidence(sample=Mid2t2_S1, chr_position=4357163, ref_base=A, new_base=T)> 0.0504002571\n",
      "<SNP_Evidence(sample=HiMid4t1_S1, chr_position=4609226, ref_base=G, new_base=A)> 0.0868172646\n"
     ]
    }
   ],
   "source": [
    "for ev in stop_ev:\n",
    "    print(ev, ev.frequency)"
   ]
  },
  {
   "cell_type": "markdown",
   "metadata": {},
   "source": [
    "Inspecting the whole list of strains with a mutation to a stop codon we see the mutation at chromosome position 1760934 with a mutation from G to A was detected 9 times. That's 8 of the extra detections over the number of unique mutations out of 9 extra detections. Of the 9 times this mutation was detected, 8 times were in 4 wells at both time 1 and time 2: wells Lo2, Lo4, LoMid4, and Mid2. Interestingly, in the well Lo2 it almost spread to fixation, but in Lo4 and LoMid4 it only increased in frequency moderately. In Mid2 it didn't change in frequency, and in HiMid2 it appeared at time 1 but vanished at time 2.\n",
    "\n",
    "The last mutation detected more than once was chromosome position 2271475 from G to A in the well HiMid4 at both times 1 and 2. It may have increased slightly in frequency, but I'm guess .07 to .12 is within noise.\n",
    "\n",
    "No mutations into stop codons were detected in the ancestor."
   ]
  },
  {
   "cell_type": "markdown",
   "metadata": {},
   "source": [
    "# How many mutations changed a stop codon into something else?"
   ]
  },
  {
   "cell_type": "code",
   "execution_count": 10,
   "metadata": {},
   "outputs": [],
   "source": [
    "nonstop_mutations = [mutation for mutation in (session.query(sqd.SNP_Mutation)\n",
    "                                                   .filter(sqd.SNP_Mutation.new_aa!='*')\n",
    "                                                   .filter(sqd.SNP_Mutation.ref_aa=='*'))]"
   ]
  },
  {
   "cell_type": "code",
   "execution_count": 11,
   "metadata": {},
   "outputs": [
    {
     "data": {
      "text/plain": [
       "1"
      ]
     },
     "execution_count": 11,
     "metadata": {},
     "output_type": "execute_result"
    }
   ],
   "source": [
    "len(nonstop_mutations)"
   ]
  },
  {
   "cell_type": "code",
   "execution_count": 12,
   "metadata": {},
   "outputs": [],
   "source": [
    "nonstop_ev = [x for x in (session.query(sqd.SNP_Evidence)\n",
    "                              .join(sqd.SNP_Mutation)\n",
    "                              .filter(sqd.SNP_Mutation.new_aa!='*')\n",
    "                              .filter(sqd.SNP_Mutation.ref_aa=='*')\n",
    "                              .order_by(sqd.SNP_Evidence.chr_position))]"
   ]
  },
  {
   "cell_type": "code",
   "execution_count": 13,
   "metadata": {},
   "outputs": [
    {
     "data": {
      "text/plain": [
       "1"
      ]
     },
     "execution_count": 13,
     "metadata": {},
     "output_type": "execute_result"
    }
   ],
   "source": [
    "len(nonstop_ev)"
   ]
  },
  {
   "cell_type": "code",
   "execution_count": 14,
   "metadata": {},
   "outputs": [
    {
     "name": "stdout",
     "output_type": "stream",
     "text": [
      "<SNP_Evidence(sample=Mid3t2_S1, chr_position=2746434, ref_base=A, new_base=G)> 0.0561490059\n"
     ]
    }
   ],
   "source": [
    "for ev in nonstop_ev:\n",
    "    print(ev, ev.frequency)"
   ]
  },
  {
   "cell_type": "markdown",
   "metadata": {},
   "source": [
    "Stop codons only occur at the exact end of a gene so perhaps unsurprisingly, a mutation that got rid of a stop codon only was detected once in any sequencing. So there's not much to say about this."
   ]
  }
 ],
 "metadata": {
  "kernelspec": {
   "display_name": "Python 3",
   "language": "python",
   "name": "python3"
  },
  "language_info": {
   "codemirror_mode": {
    "name": "ipython",
    "version": 3
   },
   "file_extension": ".py",
   "mimetype": "text/x-python",
   "name": "python",
   "nbconvert_exporter": "python",
   "pygments_lexer": "ipython3",
   "version": "3.7.1"
  }
 },
 "nbformat": 4,
 "nbformat_minor": 2
}
