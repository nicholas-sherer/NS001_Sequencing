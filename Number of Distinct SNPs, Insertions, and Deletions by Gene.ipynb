{
 "cells": [
  {
   "cell_type": "code",
   "execution_count": 1,
   "metadata": {},
   "outputs": [],
   "source": [
    "from sqlalchemy import create_engine\n",
    "from sqlalchemy.orm import sessionmaker\n",
    "import re\n",
    "import numpy as np\n",
    "import pandas as pd\n",
    "\n",
    "import SequenceDataORM_updt as sqd\n",
    "import circularspacingtests as cst\n",
    "\n",
    "import matplotlib.pyplot as plt\n",
    "import seaborn as sns\n",
    "%matplotlib inline\n",
    "plt.style.use('C:/Users/Nicholas Sherer/.matplotlib/ShererPaper.mplstyle')"
   ]
  },
  {
   "cell_type": "code",
   "execution_count": 2,
   "metadata": {},
   "outputs": [],
   "source": [
    "engine = create_engine('sqlite:///NS001_evolved_mutations_copy8.db', echo=False) # our database connection\n",
    "session = sessionmaker(bind=engine)() # the session object is how we make queries through sqlalchemy"
   ]
  },
  {
   "cell_type": "code",
   "execution_count": 3,
   "metadata": {},
   "outputs": [
    {
     "name": "stdout",
     "output_type": "stream",
     "text": [
      "C:\\Users\\Nicholas Sherer\\Box\\N_Sherer_Thesis_Materials\\SeqDBandNBs\\Paper Figures\n"
     ]
    }
   ],
   "source": [
    "cd \"Paper Figures\""
   ]
  },
  {
   "cell_type": "markdown",
   "metadata": {},
   "source": [
    "# Group snps that should have been grouped\n",
    "\n",
    "While doing earlier runs of this analysis, I found many clusters of mutations that should have been classified as a single mutational event. They occurred in only one well and on the same set of reads. This meant the cluster finding strategy I took from \"Detecting Clusters of Mutations\" by Zhou et al. was finding not only clusters due to natural selection but multiple mutations that should have been one mutation event."
   ]
  },
  {
   "cell_type": "code",
   "execution_count": 4,
   "metadata": {},
   "outputs": [],
   "source": [
    "snp_mutations = [mut for mut in session.query(sqd.SNP_Mutation).order_by(sqd.SNP_Mutation.chr_position)]"
   ]
  },
  {
   "cell_type": "code",
   "execution_count": 5,
   "metadata": {},
   "outputs": [],
   "source": [
    "def snp_covs(snp_mut):\n",
    "    smpls = snp_mut.samples\n",
    "    new_covs = [(session.query(sqd.SNP_Evidence)\n",
    "                        .filter(sqd.SNP_Evidence.sample == smpl)\n",
    "                        .filter(sqd.SNP_Evidence.chr_position == snp_mut.chr_position)\n",
    "                        .filter(sqd.SNP_Evidence.ref_base == snp_mut.ref_base)\n",
    "                        .filter(sqd.SNP_Evidence.new_base == snp_mut.new_base)\n",
    "                        .first()).new_cov for smpl in smpls]\n",
    "    return new_covs\n",
    "\n",
    "def is_close_cov(cov1, cov2):\n",
    "    x1, y1 = [int(word) for word in cov1.split('/')]\n",
    "    x2, y2 = [int(word) for word in cov2.split('/')]\n",
    "    return ((x1 == x2) and (np.abs(y1-y2) <= 1)) or ((np.abs(x1 - x2) <= 1) and (y1 == y2))\n",
    "\n",
    "def merge_snps(sorted_snp_list):\n",
    "    merged_list = [sorted_snp_list[0]]\n",
    "    curr_samples = merged_list[0].samples\n",
    "    curr_position = merged_list[0].chr_position\n",
    "    curr_covs = snp_covs(merged_list[0])\n",
    "    for snp in sorted_snp_list[1:]:\n",
    "        if (snp.chr_position <= curr_position + 100 and \n",
    "            set(snp.samples) == set(curr_samples) and\n",
    "            np.all([is_close_cov(cov, curr_cov) for cov, curr_cov in zip(snp_covs(snp), curr_covs)])):\n",
    "                pass\n",
    "        else:\n",
    "            merged_list.append(snp)\n",
    "            curr_samples = snp.samples\n",
    "            curr_position = snp.chr_position\n",
    "            curr_covs = snp_covs(snp)\n",
    "    return merged_list"
   ]
  },
  {
   "cell_type": "code",
   "execution_count": 6,
   "metadata": {},
   "outputs": [
    {
     "data": {
      "text/plain": [
       "937"
      ]
     },
     "execution_count": 6,
     "metadata": {},
     "output_type": "execute_result"
    }
   ],
   "source": [
    "len(snp_mutations)"
   ]
  },
  {
   "cell_type": "code",
   "execution_count": 7,
   "metadata": {},
   "outputs": [],
   "source": [
    "merged_snps = merge_snps(snp_mutations)"
   ]
  },
  {
   "cell_type": "code",
   "execution_count": 8,
   "metadata": {},
   "outputs": [
    {
     "data": {
      "text/plain": [
       "909"
      ]
     },
     "execution_count": 8,
     "metadata": {},
     "output_type": "execute_result"
    }
   ],
   "source": [
    "len(merged_snps)"
   ]
  },
  {
   "cell_type": "markdown",
   "metadata": {},
   "source": [
    "# Filter out ancestral mutations"
   ]
  },
  {
   "cell_type": "code",
   "execution_count": 9,
   "metadata": {},
   "outputs": [],
   "source": [
    "nonancestral_mutations = [snp for snp in merged_snps\n",
    "                          if ('Aggregate_NS001_Ancestors' not in snp.samples) and\n",
    "                             ('Ancestor_S1' not in snp.samples) and\n",
    "                             ('Ancestor_S2' not in snp.samples) and\n",
    "                             ('Ancestor_S3' not in snp.samples)]"
   ]
  },
  {
   "cell_type": "code",
   "execution_count": 10,
   "metadata": {},
   "outputs": [
    {
     "data": {
      "text/plain": [
       "846"
      ]
     },
     "execution_count": 10,
     "metadata": {},
     "output_type": "execute_result"
    }
   ],
   "source": [
    "len(nonancestral_mutations)"
   ]
  },
  {
   "cell_type": "markdown",
   "metadata": {},
   "source": [
    "# Filter out undetected ancestral mutations\n",
    "Any mutations that appear in two different wells almost certainly were in the ancestor but undetected. Let's filter those out."
   ]
  },
  {
   "cell_type": "code",
   "execution_count": 11,
   "metadata": {},
   "outputs": [],
   "source": [
    "nonancestral_mutations = [snp for snp in nonancestral_mutations if len(snp.samples) <= 2]"
   ]
  },
  {
   "cell_type": "code",
   "execution_count": 12,
   "metadata": {},
   "outputs": [
    {
     "data": {
      "text/plain": [
       "825"
      ]
     },
     "execution_count": 12,
     "metadata": {},
     "output_type": "execute_result"
    }
   ],
   "source": [
    "len(nonancestral_mutations)"
   ]
  },
  {
   "cell_type": "markdown",
   "metadata": {},
   "source": [
    "# Remove synonymous mutations"
   ]
  },
  {
   "cell_type": "code",
   "execution_count": 13,
   "metadata": {},
   "outputs": [],
   "source": [
    "nonsyn_nonanc_mutations = [snp for snp in nonancestral_mutations if not snp.synonymous]"
   ]
  },
  {
   "cell_type": "code",
   "execution_count": 14,
   "metadata": {},
   "outputs": [
    {
     "data": {
      "text/plain": [
       "488"
      ]
     },
     "execution_count": 14,
     "metadata": {},
     "output_type": "execute_result"
    }
   ],
   "source": [
    "len(nonsyn_nonanc_mutations)"
   ]
  },
  {
   "cell_type": "markdown",
   "metadata": {},
   "source": [
    "# Count up the number of unique mutations found by gene"
   ]
  },
  {
   "cell_type": "code",
   "execution_count": 15,
   "metadata": {},
   "outputs": [],
   "source": [
    "count_dict = {}\n",
    "for mut in nonsyn_nonanc_mutations:\n",
    "    if mut.gene in count_dict:\n",
    "        count_dict[mut.gene] = count_dict[mut.gene] + 1\n",
    "    else:\n",
    "        count_dict[mut.gene] = 1\n",
    "mutation_counts = pd.Series(pd.Series(count_dict).sort_values(ascending=False))"
   ]
  },
  {
   "cell_type": "code",
   "execution_count": 16,
   "metadata": {},
   "outputs": [
    {
     "data": {
      "text/plain": [
       "440"
      ]
     },
     "execution_count": 16,
     "metadata": {},
     "output_type": "execute_result"
    }
   ],
   "source": [
    "len(mutation_counts)"
   ]
  },
  {
   "cell_type": "code",
   "execution_count": 17,
   "metadata": {},
   "outputs": [
    {
     "data": {
      "text/plain": [
       "30"
      ]
     },
     "execution_count": 17,
     "metadata": {},
     "output_type": "execute_result"
    }
   ],
   "source": [
    "np.sum(mutation_counts > 1)"
   ]
  },
  {
   "cell_type": "code",
   "execution_count": 18,
   "metadata": {},
   "outputs": [
    {
     "data": {
      "text/plain": [
       "sufB    8\n",
       "rne     6\n",
       "rhsD    4\n",
       "ptsP    4\n",
       "rpoB    3\n",
       "yeeJ    3\n",
       "sufC    3\n",
       "glgX    3\n",
       "yhdP    2\n",
       "eptC    2\n",
       "mhpF    2\n",
       "ompT    2\n",
       "entS    2\n",
       "rhsC    2\n",
       "dtpD    2\n",
       "ftsK    2\n",
       "psuG    2\n",
       "etk     2\n",
       "dnaE    2\n",
       "barA    2\n",
       "kgtP    2\n",
       "ydeT    2\n",
       "ynfF    2\n",
       "acrD    2\n",
       "yfbS    2\n",
       "menD    2\n",
       "rcsC    2\n",
       "parC    2\n",
       "cobS    2\n",
       "yjjB    2\n",
       "lpxB    1\n",
       "dtype: int64"
      ]
     },
     "execution_count": 18,
     "metadata": {},
     "output_type": "execute_result"
    }
   ],
   "source": [
    "mutation_counts[:31]"
   ]
  },
  {
   "cell_type": "markdown",
   "metadata": {},
   "source": [
    "# Calculate the probability that a  cluster of mutations would fit within each gene given 1000 mutations across the entire chromosome\n",
    "\n",
    "We found 825 nonancestral mutations and only looked at nonsynonymous mutations within each gene, but to avoid false positives, we'll calculate how often 1000 mutations randomly distributed throughout the *E. coli* chromosome would lead to a cluster of mutations as large as the cluster in each gene and in a length less than or equal to that of the gene.\n",
    "\n",
    "We only need to look at genes that had 2 or more mutations since we're looking at the likelihood of multiple mutations clustered together.\n",
    "\n",
    "We calculate the probability of a cluster by simulation and will be using the traditional p_value cutoff of .05 (our simulation method means this is already corrected for multiple comparisions across the whole chromosome) so we only take 100,000 draws for our simulations to calculate the probability each cluster would occur by chance. If a 0 is returned that means almost certainly p < 10^-3 and likely less than 10^-4."
   ]
  },
  {
   "cell_type": "code",
   "execution_count": 19,
   "metadata": {},
   "outputs": [
    {
     "name": "stdout",
     "output_type": "stream",
     "text": [
      "sufB 8 1488 8e-05\n",
      "rne 6 3186 0.43234\n",
      "rhsD 4 4281 1.0\n",
      "ptsP 4 2247 1.0\n",
      "rpoB 3 4029 1.0\n",
      "yeeJ 3 7077 1.0\n",
      "sufC 3 747 0.99999\n",
      "glgX 3 1974 1.0\n",
      "yhdP 2 3801 1.0\n",
      "eptC 2 1734 1.0\n",
      "mhpF 2 951 1.0\n",
      "ompT 2 954 1.0\n",
      "entS 2 1251 1.0\n",
      "rhsC 2 4194 1.0\n",
      "dtpD 2 1482 1.0\n",
      "ftsK 2 3990 1.0\n",
      "psuG 2 939 1.0\n",
      "etk 2 2181 1.0\n",
      "dnaE 2 3483 1.0\n",
      "barA 2 2757 1.0\n",
      "kgtP 2 1299 1.0\n",
      "ydeT 2 1149 1.0\n",
      "ynfF 2 2424 1.0\n",
      "acrD 2 3114 1.0\n",
      "yfbS 2 1833 1.0\n",
      "menD 2 1671 1.0\n",
      "rcsC 2 2850 1.0\n",
      "parC 2 2259 1.0\n",
      "cobS 2 744 1.0\n",
      "yjjB 2 474 1.0\n"
     ]
    }
   ],
   "source": [
    "TOTAL_MUTATIONS = 1000\n",
    "CHROMOSOME_LENGTH = 4641652\n",
    "\n",
    "for gene, n_mutations in list(mutation_counts.items())[:30]:\n",
    "    length = session.query(sqd.Gene).filter(sqd.Gene.name==gene).first().length\n",
    "    p = cst.p_extreme_cluster(n_mutations, length, TOTAL_MUTATIONS, CHROMOSOME_LENGTH, max_draws=10**5)\n",
    "    print(gene, n_mutations, length, p)"
   ]
  },
  {
   "cell_type": "markdown",
   "metadata": {},
   "source": [
    "# Inspect the individual mutations in genes that passed the p value cutoff for the chance there would be a random cluster of that size given 1000 mutations across the entire chromosome\n",
    "\n",
    "The only gene that passes this threshold is the sufB gene."
   ]
  },
  {
   "cell_type": "code",
   "execution_count": 20,
   "metadata": {},
   "outputs": [],
   "source": [
    "mutation_ev_by_gene = {}\n",
    "for index in pd.Series(count_dict).index:\n",
    "    mutation_ev_by_gene[index] = [ev for ev in (session.query(sqd.SNP_Evidence)\n",
    "                                                           .join(sqd.SNP_Mutation)\n",
    "                                                           .filter(sqd.SNP_Mutation.gene==index)\n",
    "                                                           .order_by(sqd.SNP_Evidence.chr_position,\n",
    "                                                                     sqd.SNP_Evidence.sample))]"
   ]
  },
  {
   "cell_type": "code",
   "execution_count": 21,
   "metadata": {},
   "outputs": [
    {
     "name": "stdout",
     "output_type": "stream",
     "text": [
      "<SNP_Evidence(sample=Hi4t1_S1, chr_position=1761840, ref_base=C, new_base=T)> 0.872701645\n",
      "<SNP_Evidence(sample=Hi4t2_S1, chr_position=1761840, ref_base=C, new_base=T)> 0.18745327\n",
      "<SNP_Evidence(sample=Hi3t1_S1, chr_position=1762024, ref_base=G, new_base=A)> 0.0707144737\n",
      "<SNP_Evidence(sample=Hi1t1_S1, chr_position=1762267, ref_base=A, new_base=G)> 0.407216549\n",
      "<SNP_Evidence(sample=Hi1t2_S1, chr_position=1762291, ref_base=A, new_base=G)> 0.193992615\n",
      "<SNP_Evidence(sample=HiMid2t2_S1, chr_position=1762299, ref_base=C, new_base=T)> 0.357156754\n",
      "<SNP_Evidence(sample=Hi3t1_S1, chr_position=1762315, ref_base=A, new_base=G)> 0.337581158\n",
      "<SNP_Evidence(sample=HiMid3t1_S1, chr_position=1762497, ref_base=C, new_base=T)> 0.945244312\n",
      "<SNP_Evidence(sample=HiMid3t2_S1, chr_position=1762497, ref_base=C, new_base=T)> 0.837644577\n",
      "<SNP_Evidence(sample=HiMid4t1_S1, chr_position=1762620, ref_base=T, new_base=C)> 0.104299068\n"
     ]
    }
   ],
   "source": [
    "for mut in mutation_ev_by_gene['sufB']:\n",
    "    print(mut, mut.frequency)"
   ]
  },
  {
   "cell_type": "markdown",
   "metadata": {},
   "source": [
    "# Repeat the same analysis for deletion mutations\n",
    "\n",
    "First filter out ancestral mutations. There is no such thing as a synonymous deletion so we skip that step. We discovered the problem with unmerged mutations for deletions before loading the database with the breseq run data, so that step has already been handled."
   ]
  },
  {
   "cell_type": "code",
   "execution_count": 22,
   "metadata": {},
   "outputs": [],
   "source": [
    "del_mutations = [mut for mut in session.query(sqd.DEL_Mutation).order_by(sqd.DEL_Mutation.chr_position)]"
   ]
  },
  {
   "cell_type": "code",
   "execution_count": 23,
   "metadata": {},
   "outputs": [
    {
     "data": {
      "text/plain": [
       "39"
      ]
     },
     "execution_count": 23,
     "metadata": {},
     "output_type": "execute_result"
    }
   ],
   "source": [
    "len(del_mutations)"
   ]
  },
  {
   "cell_type": "code",
   "execution_count": 24,
   "metadata": {},
   "outputs": [],
   "source": [
    "nonancestral_deletions = [dele for dele in del_mutations\n",
    "                          if ('Aggregate_NS001_Ancestors' not in dele.samples) and\n",
    "                             ('Ancestor_S1' not in dele.samples) and\n",
    "                             ('Ancestor_S2' not in dele.samples) and\n",
    "                             ('Ancestor_S3' not in dele.samples)]\n",
    "nonancestral_deletions = [dele for dele in nonancestral_deletions if len(dele.samples) <= 2]"
   ]
  },
  {
   "cell_type": "code",
   "execution_count": 25,
   "metadata": {},
   "outputs": [
    {
     "data": {
      "text/plain": [
       "35"
      ]
     },
     "execution_count": 25,
     "metadata": {},
     "output_type": "execute_result"
    }
   ],
   "source": [
    "len(nonancestral_deletions)"
   ]
  },
  {
   "cell_type": "markdown",
   "metadata": {},
   "source": [
    "### Now count up the number of deletions per gene"
   ]
  },
  {
   "cell_type": "code",
   "execution_count": 26,
   "metadata": {},
   "outputs": [],
   "source": [
    "count_dele = {}\n",
    "for dele in nonancestral_deletions:\n",
    "    if dele.gene in count_dele:\n",
    "        count_dele[dele.gene] = count_dele[dele.gene] + 1\n",
    "    else:\n",
    "        count_dele[dele.gene] = 1\n",
    "deletion_counts = pd.Series(pd.Series(count_dele).sort_values(ascending=False))"
   ]
  },
  {
   "cell_type": "code",
   "execution_count": 27,
   "metadata": {},
   "outputs": [
    {
     "data": {
      "text/plain": [
       "sufS         3\n",
       "creD         1\n",
       "cysP         1\n",
       "mhpR         1\n",
       "lon          1\n",
       "mscK         1\n",
       "cydA         1\n",
       "pgaB         1\n",
       "csgE         1\n",
       "adhE         1\n",
       "ydcL         1\n",
       "dtpA/gstA    1\n",
       "ydhK         1\n",
       "cfa          1\n",
       "astB         1\n",
       "fliA         1\n",
       "stpA         1\n",
       "dcuS         1\n",
       "xdhA         1\n",
       "yhbE         1\n",
       "rapZ         1\n",
       "prkB         1\n",
       "glgP         1\n",
       "yhjG         1\n",
       "bcsB         1\n",
       "dppA/proK    1\n",
       "waaQ/waaA    1\n",
       "dfp          1\n",
       "dinD/yicG    1\n",
       "fadA         1\n",
       "frvR         1\n",
       "phnG         1\n",
       "aceE         1\n",
       "dtype: int64"
      ]
     },
     "execution_count": 27,
     "metadata": {},
     "output_type": "execute_result"
    }
   ],
   "source": [
    "deletion_counts"
   ]
  },
  {
   "cell_type": "markdown",
   "metadata": {},
   "source": [
    "The only gene with multiple deletions is sufS. Let's check the p-value for having this many deletions"
   ]
  },
  {
   "cell_type": "code",
   "execution_count": 28,
   "metadata": {},
   "outputs": [
    {
     "name": "stdout",
     "output_type": "stream",
     "text": [
      "sufS 3 1221 0.002\n"
     ]
    }
   ],
   "source": [
    "TOTAL_DELETIONS = 40\n",
    "length_sufS = session.query(sqd.Gene).filter(sqd.Gene.name=='sufS').first().length\n",
    "p_sufS = cst.p_extreme_cluster(3, length_sufS, TOTAL_DELETIONS, CHROMOSOME_LENGTH, max_draws=10**5)\n",
    "print('sufS', 3, length_sufS, p_sufS)"
   ]
  },
  {
   "cell_type": "markdown",
   "metadata": {},
   "source": [
    "That passes the threshold for significance (and is already corrected for multiple comparisons)"
   ]
  },
  {
   "cell_type": "code",
   "execution_count": 29,
   "metadata": {},
   "outputs": [],
   "source": [
    "del_ev_by_gene = {}\n",
    "for index in pd.Series(count_dele).index:\n",
    "    del_ev_by_gene[index] = [ev for ev in (session.query(sqd.DEL_Evidence)\n",
    "                                                            .join(sqd.DEL_Mutation)\n",
    "                                                            .filter(sqd.DEL_Mutation.gene==index)\n",
    "                                                            .order_by(sqd.DEL_Evidence.chr_position,\n",
    "                                                                      sqd.DEL_Evidence.sample))]"
   ]
  },
  {
   "cell_type": "code",
   "execution_count": 30,
   "metadata": {},
   "outputs": [
    {
     "name": "stdout",
     "output_type": "stream",
     "text": [
      "<DEL_Evidence(sample=Hi4t1_S1, chr_position=1758593, size=1 0.112882614\n",
      "<DEL_Evidence(sample=Hi4t2_S1, chr_position=1758593, size=1 0.517487526\n",
      "<DEL_Evidence(sample=Mid2t1_S1, chr_position=1759347, size=1 0.0850977898\n",
      "<DEL_Evidence(sample=Hi1t1_S1, chr_position=1759408, size=4 0.370708661\n"
     ]
    }
   ],
   "source": [
    "for dele in del_ev_by_gene['sufS']:\n",
    "    print(dele, dele.frequency)"
   ]
  },
  {
   "cell_type": "markdown",
   "metadata": {},
   "source": [
    "# Repeat the analysis for insertion mutations\n",
    "\n",
    "First filter out ancestral mutations. There is no such thing as a synonymous insertion so we skip that step. We discovered the problem with unmerged mutations for insertion before loading the database with the breseq run data, so that step has already been handled."
   ]
  },
  {
   "cell_type": "code",
   "execution_count": 31,
   "metadata": {},
   "outputs": [],
   "source": [
    "ins_mutations = [mut for mut in session.query(sqd.INS_Mutation).order_by(sqd.INS_Mutation.chr_position)]"
   ]
  },
  {
   "cell_type": "code",
   "execution_count": 32,
   "metadata": {},
   "outputs": [
    {
     "data": {
      "text/plain": [
       "21"
      ]
     },
     "execution_count": 32,
     "metadata": {},
     "output_type": "execute_result"
    }
   ],
   "source": [
    "len(ins_mutations)"
   ]
  },
  {
   "cell_type": "code",
   "execution_count": 33,
   "metadata": {},
   "outputs": [],
   "source": [
    "nonancestral_insertions = [ins for ins in ins_mutations\n",
    "                           if ('Aggregate_NS001_Ancestors' not in ins.samples) and\n",
    "                              ('Ancestor_S1' not in ins.samples) and\n",
    "                              ('Ancestor_S2' not in ins.samples) and\n",
    "                              ('Ancestor_S3' not in ins.samples)]\n",
    "nonancestral_insertions = [ins for ins in nonancestral_insertions if len(ins.samples) <= 2]"
   ]
  },
  {
   "cell_type": "code",
   "execution_count": 34,
   "metadata": {},
   "outputs": [
    {
     "data": {
      "text/plain": [
       "18"
      ]
     },
     "execution_count": 34,
     "metadata": {},
     "output_type": "execute_result"
    }
   ],
   "source": [
    "len(nonancestral_insertions)"
   ]
  },
  {
   "cell_type": "markdown",
   "metadata": {},
   "source": [
    "### Now count up the number of insertions per gene"
   ]
  },
  {
   "cell_type": "code",
   "execution_count": 35,
   "metadata": {},
   "outputs": [],
   "source": [
    "count_ins = {}\n",
    "for ins in nonancestral_insertions:\n",
    "    if ins.gene in count_ins:\n",
    "        count_ins[ins.gene] = count_ins[ins.gene] + 1\n",
    "    else:\n",
    "        count_ins[ins.gene] = 1\n",
    "insertion_counts = pd.Series(pd.Series(count_ins).sort_values(ascending=False))"
   ]
  },
  {
   "cell_type": "code",
   "execution_count": 36,
   "metadata": {},
   "outputs": [
    {
     "data": {
      "text/plain": [
       "ytfT         1\n",
       "aspA         1\n",
       "yccE         1\n",
       "grxB/mdtH    1\n",
       "ymfE/lit     1\n",
       "sufS         1\n",
       "uvrY         1\n",
       "ada          1\n",
       "rodZ/rlmN    1\n",
       "purL/mltF    1\n",
       "pgeF         1\n",
       "yfjM/rnlA    1\n",
       "mtr          1\n",
       "glpR         1\n",
       "bcsZ         1\n",
       "asnA         1\n",
       "phnG         1\n",
       "yagG         1\n",
       "dtype: int64"
      ]
     },
     "execution_count": 36,
     "metadata": {},
     "output_type": "execute_result"
    }
   ],
   "source": [
    "insertion_counts"
   ]
  },
  {
   "cell_type": "markdown",
   "metadata": {},
   "source": [
    "There are no genes with multiple nonancestral insertions."
   ]
  },
  {
   "cell_type": "code",
   "execution_count": 37,
   "metadata": {},
   "outputs": [],
   "source": [
    "ins_ev_by_gene = {}\n",
    "for index in pd.Series(count_ins).index:\n",
    "    ins_ev_by_gene[index] = [ev for ev in (session.query(sqd.INS_Evidence)\n",
    "                                                            .join(sqd.INS_Mutation)\n",
    "                                                            .filter(sqd.INS_Mutation.gene==index)\n",
    "                                                            .order_by(sqd.INS_Evidence.chr_position,\n",
    "                                                                      sqd.INS_Evidence.sample))]"
   ]
  },
  {
   "cell_type": "code",
   "execution_count": 38,
   "metadata": {},
   "outputs": [
    {
     "name": "stdout",
     "output_type": "stream",
     "text": [
      "<INS_Evidence(sample=HiMid4t2_S1, chr_position=1758899, new_seq=C 1.0\n",
      "<INS_Evidence(sample=Mid1t1_S1, chr_position=1758899, new_seq=C 1.0\n",
      "<INS_Evidence(sample=Mid1t2_S1, chr_position=1758899, new_seq=C 1.0\n",
      "<INS_Evidence(sample=Mid4t1_S1, chr_position=1758992, new_seq=C 1.0\n",
      "<INS_Evidence(sample=Mid4t2_S1, chr_position=1758992, new_seq=C 1.0\n"
     ]
    }
   ],
   "source": [
    "for ins in ins_ev_by_gene['sufS']:\n",
    "    print(ins, ins.frequency)"
   ]
  },
  {
   "cell_type": "markdown",
   "metadata": {},
   "source": [
    "# There are only 3 mobile element insertions total so we skip the full analysis of mobile element insertions and instead just show the evidence for these three"
   ]
  },
  {
   "cell_type": "code",
   "execution_count": 39,
   "metadata": {},
   "outputs": [
    {
     "name": "stdout",
     "output_type": "stream",
     "text": [
      "<MOB_Evidence(sample=Lo2t2_S1, chr_position=252489, repeat_name=IS1 0.716814159\n",
      "<MOB_Evidence(sample=LoMid2t2_S1, chr_position=2381501, repeat_name=IS1 0.549295775\n",
      "<MOB_Evidence(sample=Mid3t1_S1, chr_position=1758639, repeat_name=IS2 0.831775701\n",
      "<MOB_Evidence(sample=Mid3t2_S1, chr_position=1758639, repeat_name=IS2 0.942857143\n"
     ]
    }
   ],
   "source": [
    "for mob in session.query(sqd.MOB_Evidence).order_by(sqd.MOB_Evidence.sample):\n",
    "    print(mob, mob.frequency)"
   ]
  },
  {
   "cell_type": "markdown",
   "metadata": {},
   "source": [
    "# What if we look at the SNPs in the whole suf operon?\n",
    "\n",
    "Although only sufB passes the threshold of statistical significance, there are 3 SNPs in sufC as well, and maybe a mutation in sufA, sufD, sufE, or sufS. What happens if we look at the entire operons length vs the number of mutations in it?"
   ]
  },
  {
   "cell_type": "code",
   "execution_count": 40,
   "metadata": {},
   "outputs": [
    {
     "name": "stdout",
     "output_type": "stream",
     "text": [
      "For each gene individually, the number of mutations, gene length, and p_value of the cluster is\n",
      "sufA 0 369 0.10285\n",
      "sufB 8 1488 3e-05\n",
      "sufC 3 747 0.99997\n",
      "sufD 0 1272 0.10228\n",
      "sufE 1 417 1.0\n",
      "sufS 1 1221 1.0\n"
     ]
    }
   ],
   "source": [
    "sufs = ['suf' + letter for letter in ['A', 'B', 'C', 'D', 'E', 'S']]\n",
    "suf_operon_length = 0\n",
    "suf_snp_count = 0\n",
    "\n",
    "print('For each gene individually, the number of mutations, gene length, and p_value of the cluster is')\n",
    "for gene in sufs:\n",
    "    try:\n",
    "        n_snps = mutation_counts[gene]\n",
    "    except KeyError:\n",
    "        n_snps = 0\n",
    "    suf_snp_count = suf_snp_count + n_snps\n",
    "    length = session.query(sqd.Gene).filter(sqd.Gene.name==gene).first().length\n",
    "    suf_operon_length = suf_operon_length + length\n",
    "    p = cst.p_extreme_cluster(n_snps, length, TOTAL_MUTATIONS, CHROMOSOME_LENGTH, max_draws=10**5)\n",
    "    print(gene, n_snps, length, p)"
   ]
  },
  {
   "cell_type": "code",
   "execution_count": 41,
   "metadata": {},
   "outputs": [
    {
     "name": "stdout",
     "output_type": "stream",
     "text": [
      "For the entire suf operon, the number of mutations, operon_length, and p_value of the cluster is\n",
      "suf operon 13 5514 3e-06\n"
     ]
    }
   ],
   "source": [
    "print('For the entire suf operon, the number of mutations, operon_length, and p_value of the cluster is')\n",
    "p_operon = cst.p_extreme_cluster(suf_snp_count, suf_operon_length, TOTAL_MUTATIONS, CHROMOSOME_LENGTH, max_draws=10**6)\n",
    "print('suf operon', suf_snp_count, suf_operon_length, p_operon)"
   ]
  },
  {
   "cell_type": "code",
   "execution_count": null,
   "metadata": {},
   "outputs": [],
   "source": []
  }
 ],
 "metadata": {
  "kernelspec": {
   "display_name": "Python 3",
   "language": "python",
   "name": "python3"
  },
  "language_info": {
   "codemirror_mode": {
    "name": "ipython",
    "version": 3
   },
   "file_extension": ".py",
   "mimetype": "text/x-python",
   "name": "python",
   "nbconvert_exporter": "python",
   "pygments_lexer": "ipython3",
   "version": "3.7.1"
  }
 },
 "nbformat": 4,
 "nbformat_minor": 2
}
