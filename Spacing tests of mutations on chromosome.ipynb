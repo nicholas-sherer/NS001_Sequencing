{
 "cells": [
  {
   "cell_type": "code",
   "execution_count": 1,
   "metadata": {},
   "outputs": [],
   "source": [
    "from sqlalchemy import create_engine\n",
    "from sqlalchemy.orm import sessionmaker\n",
    "import re\n",
    "import numpy as np\n",
    "import pandas as pd\n",
    "\n",
    "import SequenceDataORM_updt as sqd\n",
    "import circularspacingtests as cst\n",
    "\n",
    "import matplotlib.pyplot as plt\n",
    "import seaborn as sns\n",
    "%matplotlib inline"
   ]
  },
  {
   "cell_type": "code",
   "execution_count": 2,
   "metadata": {},
   "outputs": [],
   "source": [
    "engine = create_engine('sqlite:///NS001_evolved_mutations_copy3.db', echo=False) # our database connection\n",
    "session = sessionmaker(bind=engine)() # the session object is how we make queries through sqlalchemy"
   ]
  },
  {
   "cell_type": "code",
   "execution_count": 3,
   "metadata": {},
   "outputs": [],
   "source": [
    "all_mutations = session.query(sqd.SNP_Mutation).all()\n",
    "intergenic_mutations = [mut for mut in all_mutations if mut.intergenic_left is not None]\n",
    "all_mut_but_suf = [mut for mut in all_mutations if 'suf' not in mut.gene]"
   ]
  },
  {
   "cell_type": "code",
   "execution_count": 4,
   "metadata": {},
   "outputs": [
    {
     "data": {
      "text/plain": [
       "(array([2.32000e+02, 5.26900e+03, 5.01090e+04, 2.01212e+05, 3.53589e+05,\n",
       "        2.76508e+05, 9.69510e+04, 1.50110e+04, 1.07300e+03, 4.60000e+01]),\n",
       " array([120.22450435, 122.8080287 , 125.39155304, 127.97507739,\n",
       "        130.55860174, 133.14212609, 135.72565043, 138.30917478,\n",
       "        140.89269913, 143.47622348, 146.05974783]),\n",
       " <a list of 10 Patch objects>)"
      ]
     },
     "execution_count": 4,
     "metadata": {},
     "output_type": "execute_result"
    },
    {
     "data": {
      "image/png": "[encoded data removed]",
      "text/plain": [
       "<Figure size 432x288 with 1 Axes>"
      ]
     },
     "metadata": {
      "needs_background": "light"
     },
     "output_type": "display_data"
    }
   ],
   "source": [
    "b_sample = 1000\n",
    "l_sample = 100\n",
    "chr_l = 4600000\n",
    "\n",
    "uniform_rao_big = []\n",
    "for i in range(10**6):\n",
    "    data = np.random.randint(1, chr_l, b_sample)\n",
    "    uniform_rao_big.append(cst.rao_spacing(data, chr_l))\n",
    "    \n",
    "plt.hist(uniform_rao_big)"
   ]
  },
  {
   "cell_type": "code",
   "execution_count": 5,
   "metadata": {},
   "outputs": [
    {
     "data": {
      "text/plain": [
       "(array([3.00000e+00, 5.75000e+02, 1.73420e+04, 1.47761e+05, 3.84498e+05,\n",
       "        3.35687e+05, 1.02358e+05, 1.12550e+04, 5.14000e+02, 7.00000e+00]),\n",
       " array([ 85.11542609,  94.65055826, 104.18569043, 113.72082261,\n",
       "        123.25595478, 132.79108696, 142.32621913, 151.8613513 ,\n",
       "        161.39648348, 170.93161565, 180.46674783]),\n",
       " <a list of 10 Patch objects>)"
      ]
     },
     "execution_count": 5,
     "metadata": {},
     "output_type": "execute_result"
    },
    {
     "data": {
      "image/png": "[encoded data removed]",
      "text/plain": [
       "<Figure size 432x288 with 1 Axes>"
      ]
     },
     "metadata": {
      "needs_background": "light"
     },
     "output_type": "display_data"
    }
   ],
   "source": [
    "uniform_rao_lit = []\n",
    "for i in range(10**6):\n",
    "    data = np.random.randint(1, chr_l, l_sample)\n",
    "    uniform_rao_lit.append(cst.rao_spacing(data, chr_l))\n",
    "    \n",
    "plt.hist(uniform_rao_lit)"
   ]
  },
  {
   "cell_type": "code",
   "execution_count": 6,
   "metadata": {},
   "outputs": [
    {
     "name": "stdout",
     "output_type": "stream",
     "text": [
      "143.89580053825813\n",
      "2.2e-05\n"
     ]
    }
   ],
   "source": [
    "all_mut_rs = cst.rao_spacing(np.array([mut.chr_position for mut in all_mutations]), chr_l)\n",
    "print(all_mut_rs)\n",
    "print(np.sum(np.array(uniform_rao_big)>all_mut_rs)/10**6)"
   ]
  },
  {
   "cell_type": "code",
   "execution_count": 7,
   "metadata": {},
   "outputs": [
    {
     "name": "stdout",
     "output_type": "stream",
     "text": [
      "155.92417070938217\n",
      "0.003402\n"
     ]
    }
   ],
   "source": [
    "int_mut_rs = cst.rao_spacing(np.array([mut.chr_position for mut in intergenic_mutations]), chr_l)\n",
    "print(int_mut_rs)\n",
    "print(np.sum(np.array(uniform_rao_lit)>int_mut_rs)/10**6)"
   ]
  },
  {
   "cell_type": "code",
   "execution_count": 8,
   "metadata": {},
   "outputs": [
    {
     "name": "stdout",
     "output_type": "stream",
     "text": [
      "142.20641874941057\n",
      "0.000213\n"
     ]
    }
   ],
   "source": [
    "all_but_suf_mut_rs = cst.rao_spacing(np.array([mut.chr_position for mut in all_mut_but_suf]), chr_l)\n",
    "print(all_but_suf_mut_rs)\n",
    "print(np.sum(np.array(uniform_rao_big)>all_but_suf_mut_rs)/10**6)"
   ]
  },
  {
   "cell_type": "code",
   "execution_count": null,
   "metadata": {},
   "outputs": [],
   "source": []
  }
 ],
 "metadata": {
  "kernelspec": {
   "display_name": "Python 3",
   "language": "python",
   "name": "python3"
  },
  "language_info": {
   "codemirror_mode": {
    "name": "ipython",
    "version": 3
   },
   "file_extension": ".py",
   "mimetype": "text/x-python",
   "name": "python",
   "nbconvert_exporter": "python",
   "pygments_lexer": "ipython3",
   "version": "3.7.1"
  }
 },
 "nbformat": 4,
 "nbformat_minor": 2
}
