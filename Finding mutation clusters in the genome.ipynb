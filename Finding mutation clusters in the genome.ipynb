{
 "cells": [
  {
   "cell_type": "code",
   "execution_count": 1,
   "metadata": {},
   "outputs": [],
   "source": [
    "from sqlalchemy import create_engine\n",
    "from sqlalchemy.orm import sessionmaker\n",
    "import re\n",
    "import numpy as np\n",
    "import pandas as pd\n",
    "\n",
    "import SequenceDataORM_updt as sqd\n",
    "import circularspacingtests as cst\n",
    "\n",
    "import matplotlib.pyplot as plt\n",
    "import seaborn as sns\n",
    "%matplotlib inline"
   ]
  },
  {
   "cell_type": "code",
   "execution_count": 2,
   "metadata": {},
   "outputs": [],
   "source": [
    "engine = create_engine('sqlite:///NS001_evolved_mutations_copy8.db', echo=False) # our database connection\n",
    "session = sessionmaker(bind=engine)() # the session object is how we make queries through sqlalchemy"
   ]
  },
  {
   "cell_type": "markdown",
   "metadata": {},
   "source": [
    "# Grouping snps that should have been grouped\n",
    "\n",
    "While doing earlier runs of this analysis, I found many clusters of mutations that should have been classified as a single mutational event. They occurred in only one well and on the same set of reads. This meant the cluster finding strategy I took from \"Detecting Clusters of Mutations\" by Zhou et al. was finding not only clusters due to natural selection but multiple mutations that should have been one mutation event."
   ]
  },
  {
   "cell_type": "code",
   "execution_count": 3,
   "metadata": {},
   "outputs": [],
   "source": [
    "snp_mutations = [mut for mut in session.query(sqd.SNP_Mutation).order_by(sqd.SNP_Mutation.chr_position)]"
   ]
  },
  {
   "cell_type": "code",
   "execution_count": 4,
   "metadata": {},
   "outputs": [],
   "source": [
    "def snp_covs(snp_mut):\n",
    "    smpls = snp_mut.samples\n",
    "    new_covs = [(session.query(sqd.SNP_Evidence)\n",
    "                        .filter(sqd.SNP_Evidence.sample == smpl)\n",
    "                        .filter(sqd.SNP_Evidence.chr_position == snp_mut.chr_position)\n",
    "                        .filter(sqd.SNP_Evidence.ref_base == snp_mut.ref_base)\n",
    "                        .filter(sqd.SNP_Evidence.new_base == snp_mut.new_base)\n",
    "                        .first()).new_cov for smpl in smpls]\n",
    "    return new_covs\n",
    "\n",
    "def is_close_cov(cov1, cov2):\n",
    "    x1, y1 = [int(word) for word in cov1.split('/')]\n",
    "    x2, y2 = [int(word) for word in cov2.split('/')]\n",
    "    return ((x1 == x2) and (np.abs(y1-y2) <= 1)) or ((np.abs(x1 - x2) <= 1) and (y1 == y2))\n",
    "\n",
    "def merge_snps(sorted_snp_list):\n",
    "    merged_list = [sorted_snp_list[0]]\n",
    "    curr_samples = merged_list[0].samples\n",
    "    curr_position = merged_list[0].chr_position\n",
    "    curr_covs = snp_covs(merged_list[0])\n",
    "    for snp in sorted_snp_list[1:]:\n",
    "        if (snp.chr_position <= curr_position + 100 and \n",
    "            set(snp.samples) == set(curr_samples) and\n",
    "            np.all([is_close_cov(cov, curr_cov) for cov, curr_cov in zip(snp_covs(snp), curr_covs)])):\n",
    "                pass\n",
    "        else:\n",
    "            merged_list.append(snp)\n",
    "            curr_samples = snp.samples\n",
    "            curr_position = snp.chr_position\n",
    "            curr_covs = snp_covs(snp)\n",
    "    return merged_list"
   ]
  },
  {
   "cell_type": "code",
   "execution_count": 5,
   "metadata": {},
   "outputs": [
    {
     "data": {
      "text/plain": [
       "937"
      ]
     },
     "execution_count": 5,
     "metadata": {},
     "output_type": "execute_result"
    }
   ],
   "source": [
    "len(snp_mutations)"
   ]
  },
  {
   "cell_type": "code",
   "execution_count": 6,
   "metadata": {},
   "outputs": [],
   "source": [
    "merged_snps = merge_snps(snp_mutations)"
   ]
  },
  {
   "cell_type": "code",
   "execution_count": 7,
   "metadata": {},
   "outputs": [
    {
     "data": {
      "text/plain": [
       "909"
      ]
     },
     "execution_count": 7,
     "metadata": {},
     "output_type": "execute_result"
    }
   ],
   "source": [
    "len(merged_snps)"
   ]
  },
  {
   "cell_type": "markdown",
   "metadata": {},
   "source": [
    "# Finding unusually dense clusters of mutations"
   ]
  },
  {
   "cell_type": "code",
   "execution_count": 8,
   "metadata": {},
   "outputs": [],
   "source": [
    "snp_positions = np.sort(np.array([snp.chr_position for snp in merged_snps]))\n",
    "N_bp = 4641652\n",
    "p_clusters = cst.p_clusters(snp_positions, N_bp)"
   ]
  },
  {
   "cell_type": "markdown",
   "metadata": {},
   "source": [
    "We need to cutoff p_clusters for clusters above a certain size. Otherwise we're more looking at the odds of the smaller cluster on the complementary section of the genome. The obvious cutoff is 915/2 but a more realistic cutoff is probably something like 10 (or generously 100)."
   ]
  },
  {
   "cell_type": "code",
   "execution_count": 9,
   "metadata": {},
   "outputs": [],
   "source": [
    "p_clusters = p_clusters[:100,:]"
   ]
  },
  {
   "cell_type": "code",
   "execution_count": 10,
   "metadata": {},
   "outputs": [],
   "source": [
    "most_l_mut_clusts = np.argmin(p_clusters, axis=0)"
   ]
  },
  {
   "cell_type": "code",
   "execution_count": 45,
   "metadata": {},
   "outputs": [
    {
     "data": {
      "text/plain": [
       "(array([785.,  14.,   7.,   4.,   5.,   3.,   4.,   3.,   2.,   2.,   3.,\n",
       "          3.,   1.,   1.,   0.,   1.,   2.,   0.,   1.,   1.,   1.,   1.,\n",
       "          1.,   1.,   1.,   1.,   1.,   2.,   2.,   2.,   2.,   2.,   2.,\n",
       "          2.,   2.,   2.,   2.,   1.,   2.,   2.,   1.,   0.,   0.,   1.,\n",
       "          1.,   1.,   0.,   0.,   0.,   0.,   0.,   0.,   1.,   0.,   1.,\n",
       "          0.,   0.,   0.,   0.,   0.,   0.,   0.,   0.,   0.,   0.,   0.,\n",
       "          0.,   0.,   0.,   1.,   1.,   1.,   1.,   1.,   1.,   1.,   1.,\n",
       "          1.,   1.,   1.,   1.,   1.,   0.,   0.,   1.,   1.,   1.,   0.,\n",
       "          0.,   1.,   1.,   1.,   1.,   1.,   1.,   1.,   1.,   1.,   2.,\n",
       "          2.]),\n",
       " array([ 0.  ,  0.99,  1.98,  2.97,  3.96,  4.95,  5.94,  6.93,  7.92,\n",
       "         8.91,  9.9 , 10.89, 11.88, 12.87, 13.86, 14.85, 15.84, 16.83,\n",
       "        17.82, 18.81, 19.8 , 20.79, 21.78, 22.77, 23.76, 24.75, 25.74,\n",
       "        26.73, 27.72, 28.71, 29.7 , 30.69, 31.68, 32.67, 33.66, 34.65,\n",
       "        35.64, 36.63, 37.62, 38.61, 39.6 , 40.59, 41.58, 42.57, 43.56,\n",
       "        44.55, 45.54, 46.53, 47.52, 48.51, 49.5 , 50.49, 51.48, 52.47,\n",
       "        53.46, 54.45, 55.44, 56.43, 57.42, 58.41, 59.4 , 60.39, 61.38,\n",
       "        62.37, 63.36, 64.35, 65.34, 66.33, 67.32, 68.31, 69.3 , 70.29,\n",
       "        71.28, 72.27, 73.26, 74.25, 75.24, 76.23, 77.22, 78.21, 79.2 ,\n",
       "        80.19, 81.18, 82.17, 83.16, 84.15, 85.14, 86.13, 87.12, 88.11,\n",
       "        89.1 , 90.09, 91.08, 92.07, 93.06, 94.05, 95.04, 96.03, 97.02,\n",
       "        98.01, 99.  ]),\n",
       " <a list of 100 Patch objects>)"
      ]
     },
     "execution_count": 45,
     "metadata": {},
     "output_type": "execute_result"
    },
    {
     "data": {
      "image/png": "[encoded data removed]",
      "text/plain": [
       "<Figure size 432x288 with 1 Axes>"
      ]
     },
     "metadata": {
      "needs_background": "light"
     },
     "output_type": "display_data"
    }
   ],
   "source": [
    "plt.hist(most_l_mut_clusts, bins=100)"
   ]
  },
  {
   "cell_type": "code",
   "execution_count": 12,
   "metadata": {},
   "outputs": [
    {
     "data": {
      "text/plain": [
       "array([ 0,  0,  0,  0,  0,  0,  0,  0,  0,  0,  0,  0,  0,  0,  0,  0,  0,\n",
       "        0,  0,  0,  0,  0,  0,  0,  4,  0,  0,  0,  0,  0,  0,  0,  0,  0,\n",
       "        0,  0,  0,  0,  0,  0,  0,  0,  0,  0,  0,  0,  0,  0,  0,  0,  0,\n",
       "        0,  0,  0,  0,  0,  0,  0,  0,  0,  0,  0,  0,  0,  0,  0,  0,  0,\n",
       "        0,  0,  0,  0,  0,  0,  0,  0,  0,  0,  0,  0,  0,  0,  0,  0,  9,\n",
       "        0,  0,  0,  0,  0,  0,  1,  5,  0,  0,  0,  0,  1,  0,  0,  0,  1,\n",
       "        0,  0,  0,  0,  0,  0,  0,  0,  0,  0,  0,  0,  0,  0,  0,  0,  1,\n",
       "        2,  3,  4,  0,  0,  0,  0,  0,  0,  0,  0,  0,  0,  0,  0,  0,  0,\n",
       "        0,  0,  0,  0,  0,  0,  0,  0,  0,  0,  0,  0,  0,  0,  0,  0,  0,\n",
       "        0,  0,  0,  0,  0,  0,  0,  0,  0,  0,  0,  1,  0,  0,  0,  0,  0,\n",
       "        0,  0,  0,  0,  0,  0,  0,  0,  0,  0,  0,  0,  0,  0,  0,  0,  0,\n",
       "        0,  0,  0,  0,  0,  0,  0,  0,  0,  0,  0,  0,  0,  0,  0,  0,  0,\n",
       "        0,  0,  0,  0,  0,  0,  0,  0,  0,  0,  0,  0,  0,  0,  0,  0,  0,\n",
       "        0,  0,  0,  0,  0,  0,  0,  0,  0,  0,  0,  0,  0,  0,  0,  0,  0,\n",
       "        0,  0,  0,  0,  2,  3,  4,  6,  7, 15, 16,  0,  0,  0,  0,  0,  0,\n",
       "        0,  0,  0,  0,  0,  0,  0, 38, 39,  0,  0,  0,  0,  0,  0,  0,  0,\n",
       "        0,  0,  0,  0, 52,  0, 54,  0,  0,  0,  0,  0,  0,  0,  0,  0,  1,\n",
       "        5,  6,  0,  0,  0,  0,  0,  0,  0,  0,  0,  0,  0,  0,  0,  0,  0,\n",
       "        0,  0,  0,  0,  0,  0,  0,  0,  0,  0,  0,  0,  0,  0,  0,  0,  0,\n",
       "        0,  0,  0,  0,  0,  0,  0,  0,  0,  0,  0,  0,  0,  0,  0,  0,  1,\n",
       "        0,  0,  0,  0,  0,  0,  0,  0,  0,  0,  0,  0,  0,  0,  0,  0,  0,\n",
       "        0,  0,  0,  0,  0,  0,  0,  0,  0,  0,  0,  0,  0,  0,  0,  0,  0,\n",
       "        0,  6,  7,  8,  3, 10, 11, 12, 13,  8,  9, 10, 11, 18, 19, 20, 21,\n",
       "       22, 23, 24, 25, 26, 27, 28, 29, 30, 31, 32, 33, 34, 35, 36, 37, 38,\n",
       "       39, 40, 43, 44, 45,  0,  0,  0,  0,  0,  0,  0,  0,  0,  0,  0,  0,\n",
       "        1,  0,  0,  0,  0,  0,  0,  0,  0,  0,  0,  0,  0,  0,  0,  0,  0,\n",
       "        0,  0,  0,  0,  0,  0,  0,  1,  0,  0,  0,  0,  0,  0,  0,  0,  0,\n",
       "        0,  0,  0,  0,  0,  0,  0,  0,  0,  0,  0,  0,  0,  0,  0,  0,  0,\n",
       "        0,  0,  0,  0,  0,  0,  0,  2,  0,  0,  0,  0,  0,  0,  0,  0,  0,\n",
       "        0,  0,  0,  0,  0,  0,  0,  0,  0,  0,  0,  0,  0,  0,  0,  0,  0,\n",
       "        0,  0,  0,  0,  0,  0,  0,  0,  0,  0,  0,  0,  0,  0,  0,  0,  0,\n",
       "        0,  0,  0,  0,  0,  0,  0,  0,  0,  0,  0,  0,  0,  0,  0,  0,  0,\n",
       "        0,  0,  0,  0,  0,  0,  0,  0,  0,  0,  0,  0,  0,  0,  0,  0,  0,\n",
       "        0,  0,  0,  0,  0,  0,  0,  0,  0,  0,  0,  0,  0,  0,  0,  0,  0,\n",
       "        0,  0,  0,  0,  0,  0,  0,  0,  0,  0,  0,  0,  0,  0,  0,  0,  0,\n",
       "        0,  0,  0,  0,  0,  0,  0,  0,  0,  0,  0,  0,  0,  0,  0,  0,  0,\n",
       "        0,  0,  0,  0,  0,  0,  0,  0,  0,  2,  0,  0,  0,  0,  0,  0,  1,\n",
       "        0,  0,  0,  0,  0,  0,  0,  0,  0,  0,  0,  0,  0,  0,  0,  0,  0,\n",
       "        0,  0,  0,  0,  0,  0,  0,  0,  0,  0,  0,  0,  0,  0,  0,  0,  0,\n",
       "        0,  0,  0,  0,  0,  0,  0,  0,  0,  1,  2,  0,  0,  0,  0,  0,  0,\n",
       "        0,  0,  0,  0,  0,  0,  0,  0,  0,  0,  0,  0,  0,  0,  0,  0,  0,\n",
       "        0,  0,  0,  0,  0,  0,  0,  1,  0,  0,  0,  0,  0,  0,  0,  0,  0,\n",
       "        0,  0,  0,  0,  0,  0,  0,  0,  0,  0,  0,  0,  0,  0,  0,  0,  0,\n",
       "        0,  0,  0,  0,  0,  0,  0,  0,  0,  0,  0,  0,  0,  0,  0,  0,  0,\n",
       "        0,  0,  0,  0,  0,  0,  0,  0,  0,  0,  0,  0,  0,  0,  0,  0,  0,\n",
       "        0, 27, 28, 29, 30, 31, 32, 33, 34, 35, 36,  0,  0,  0,  0,  0,  0,\n",
       "        0,  0,  0,  0,  0,  0,  0,  0,  0,  0,  0,  0,  0,  0,  0,  0,  0,\n",
       "        0,  0,  0,  0,  0,  0,  0,  0,  0, 69, 70, 71, 72, 73, 74, 75, 76,\n",
       "       77, 78, 79, 80, 81,  0,  0, 84, 85, 86,  0,  2, 89, 90, 91, 92, 93,\n",
       "       94, 95, 96, 97, 98, 99, 99, 98,  4,  3,  4,  5,  6,  7, 10, 11,  0,\n",
       "        0,  0,  0, 16,  0,  0,  0,  0,  0,  0,  0,  0,  0,  0,  0,  0,  0,\n",
       "        0,  0,  0,  0,  0,  0,  0,  0,  0,  0,  0,  0,  1,  2,  0,  0,  0,\n",
       "        0,  0,  0,  0,  0,  0,  0,  0,  0,  0,  0,  0,  0,  0,  0,  0,  0,\n",
       "        1,  0,  0,  0,  0,  0,  0,  0])"
      ]
     },
     "execution_count": 12,
     "metadata": {},
     "output_type": "execute_result"
    }
   ],
   "source": [
    "most_l_mut_clusts"
   ]
  },
  {
   "cell_type": "code",
   "execution_count": 33,
   "metadata": {},
   "outputs": [
    {
     "data": {
      "text/plain": [
       "(11, 386)"
      ]
     },
     "execution_count": 33,
     "metadata": {},
     "output_type": "execute_result"
    }
   ],
   "source": [
    "np.unravel_index(np.argmin(p_clusters), p_clusters.shape)"
   ]
  },
  {
   "cell_type": "code",
   "execution_count": 34,
   "metadata": {},
   "outputs": [
    {
     "data": {
      "text/plain": [
       "1762620"
      ]
     },
     "execution_count": 34,
     "metadata": {},
     "output_type": "execute_result"
    }
   ],
   "source": [
    "snp_positions[386]"
   ]
  },
  {
   "cell_type": "code",
   "execution_count": 35,
   "metadata": {},
   "outputs": [
    {
     "data": {
      "text/plain": [
       "<SNP_Mutation(chr_position=1762620, ref_base=T, new_base=C, gene=sufB)>"
      ]
     },
     "execution_count": 35,
     "metadata": {},
     "output_type": "execute_result"
    }
   ],
   "source": [
    "merged_snps[386]"
   ]
  },
  {
   "cell_type": "code",
   "execution_count": 36,
   "metadata": {},
   "outputs": [
    {
     "data": {
      "text/plain": [
       "[<matplotlib.lines.Line2D at 0x7f3ad9be1198>]"
      ]
     },
     "execution_count": 36,
     "metadata": {},
     "output_type": "execute_result"
    },
    {
     "data": {
      "image/png": "[encoded data removed]",
      "text/plain": [
       "<Figure size 432x288 with 1 Axes>"
      ]
     },
     "metadata": {
      "needs_background": "light"
     },
     "output_type": "display_data"
    }
   ],
   "source": [
    "plt.semilogy(p_clusters[:,386], '*')"
   ]
  },
  {
   "cell_type": "code",
   "execution_count": 37,
   "metadata": {},
   "outputs": [
    {
     "data": {
      "text/plain": [
       "6"
      ]
     },
     "execution_count": 37,
     "metadata": {},
     "output_type": "execute_result"
    }
   ],
   "source": [
    "np.argmin(p_clusters[:,375])"
   ]
  },
  {
   "cell_type": "code",
   "execution_count": 38,
   "metadata": {},
   "outputs": [
    {
     "data": {
      "text/plain": [
       "<SNP_Mutation(chr_position=1760934, ref_base=G, new_base=A, gene=sufD)>"
      ]
     },
     "execution_count": 38,
     "metadata": {},
     "output_type": "execute_result"
    }
   ],
   "source": [
    "merged_snps[375]"
   ]
  },
  {
   "cell_type": "code",
   "execution_count": 39,
   "metadata": {},
   "outputs": [
    {
     "data": {
      "text/plain": [
       "[<matplotlib.lines.Line2D at 0x7f3ad9a45ac8>]"
      ]
     },
     "execution_count": 39,
     "metadata": {},
     "output_type": "execute_result"
    },
    {
     "data": {
      "image/png": "[encoded data removed]",
      "text/plain": [
       "<Figure size 432x288 with 1 Axes>"
      ]
     },
     "metadata": {
      "needs_background": "light"
     },
     "output_type": "display_data"
    }
   ],
   "source": [
    "plt.semilogy(p_clusters[:,375], '*')"
   ]
  },
  {
   "cell_type": "code",
   "execution_count": 40,
   "metadata": {},
   "outputs": [
    {
     "name": "stdout",
     "output_type": "stream",
     "text": [
      "[2.36843546e-15 3.87652530e-14 4.23050045e-13 7.67725346e-12\n",
      " 1.42566038e-11 3.77741290e-11 7.97864117e-11 4.30237712e-10\n",
      " 4.79750495e-10 5.06107908e-10 9.78125367e-10 1.54245528e-09\n",
      " 2.67559470e-09 4.06728284e-09 6.62838110e-09 1.18206708e-08\n",
      " 1.30203638e-08 1.59494408e-08 1.82191341e-08 2.47920368e-08\n",
      " 2.60193424e-08 2.88872105e-08 3.24076888e-08 3.79575665e-08\n",
      " 4.05259763e-08 4.24289621e-08 7.36350084e-08 1.03255786e-07\n",
      " 1.12805291e-07 1.36589537e-07 1.67402685e-07 1.72290965e-07\n",
      " 1.76038153e-07 1.83219152e-07 1.90709585e-07 3.05354700e-07\n",
      " 4.18108411e-07 6.65909983e-07 9.22414325e-07 3.16562942e-06]\n"
     ]
    }
   ],
   "source": [
    "ml_cluster_ps = np.sort(np.min(p_clusters, axis=0))[:40]\n",
    "print(ml_cluster_ps)"
   ]
  },
  {
   "cell_type": "code",
   "execution_count": 41,
   "metadata": {},
   "outputs": [
    {
     "name": "stdout",
     "output_type": "stream",
     "text": [
      "(array([11]), array([386]))\n",
      "(array([10]), array([385]))\n",
      "(array([9]), array([384]))\n",
      "(array([6]), array([845]))\n",
      "(array([8]), array([383]))\n",
      "(array([7]), array([846]))\n",
      "(array([2]), array([673]))\n",
      "(array([13]), array([382]))\n",
      "(array([5]), array([844]))\n",
      "(array([18]), array([387]))\n",
      "(array([21]), array([390]))\n",
      "(array([20]), array([389]))\n",
      "(array([19]), array([388]))\n",
      "(array([12]), array([381]))\n",
      "(array([23]), array([392]))\n",
      "(array([22]), array([391]))\n",
      "(array([4]), array([843]))\n",
      "(array([32]), array([401]))\n",
      "(array([28]), array([397]))\n",
      "(array([34]), array([403]))\n",
      "(array([11]), array([380]))\n",
      "(array([27]), array([396]))\n",
      "(array([29]), array([398]))\n",
      "(array([31]), array([400]))\n",
      "(array([26]), array([395]))\n",
      "(array([33]), array([402]))\n",
      "(array([37]), array([406]))\n",
      "(array([36]), array([405]))\n",
      "(array([30]), array([399]))\n",
      "(array([25]), array([394]))\n",
      "(array([35]), array([404]))\n",
      "(array([1]), array([672]))\n",
      "(array([10]), array([379]))\n",
      "(array([38]), array([407]))\n",
      "(array([39]), array([408]))\n",
      "(array([24]), array([393]))\n",
      "(array([3]), array([378]))\n",
      "(array([10]), array([847]))\n",
      "(array([3]), array([842]))\n",
      "(array([7]), array([246]))\n"
     ]
    }
   ],
   "source": [
    "for i in range(40):\n",
    "    print(np.where(p_clusters == ml_cluster_ps[i]))"
   ]
  },
  {
   "cell_type": "code",
   "execution_count": 42,
   "metadata": {},
   "outputs": [
    {
     "data": {
      "text/plain": [
       "<SNP_Mutation(chr_position=4296284, ref_base=C, new_base=T, gene=gltP/yjcO)>"
      ]
     },
     "execution_count": 42,
     "metadata": {},
     "output_type": "execute_result"
    }
   ],
   "source": [
    "merged_snps[845]"
   ]
  },
  {
   "cell_type": "code",
   "execution_count": 43,
   "metadata": {},
   "outputs": [
    {
     "data": {
      "text/plain": [
       "<SNP_Mutation(chr_position=3248828, ref_base=T, new_base=A, gene=mzrA/yqjC)>"
      ]
     },
     "execution_count": 43,
     "metadata": {},
     "output_type": "execute_result"
    }
   ],
   "source": [
    "merged_snps[673]"
   ]
  },
  {
   "cell_type": "code",
   "execution_count": 44,
   "metadata": {},
   "outputs": [
    {
     "data": {
      "text/plain": [
       "<SNP_Mutation(chr_position=1145232, ref_base=A, new_base=G, gene=rluC/yceF)>"
      ]
     },
     "execution_count": 44,
     "metadata": {},
     "output_type": "execute_result"
    }
   ],
   "source": [
    "merged_snps[246]"
   ]
  },
  {
   "cell_type": "markdown",
   "metadata": {},
   "source": [
    "## What's the typical plot of cluster probability look like for the majority of mutations that don't show signs of clustering?"
   ]
  },
  {
   "cell_type": "code",
   "execution_count": 25,
   "metadata": {},
   "outputs": [
    {
     "data": {
      "text/plain": [
       "[<matplotlib.lines.Line2D at 0x7f3ada6a7be0>]"
      ]
     },
     "execution_count": 25,
     "metadata": {},
     "output_type": "execute_result"
    },
    {
     "data": {
      "image/png": "[encoded data removed]",
      "text/plain": [
       "<Figure size 432x288 with 1 Axes>"
      ]
     },
     "metadata": {
      "needs_background": "light"
     },
     "output_type": "display_data"
    }
   ],
   "source": [
    "plt.semilogy(p_clusters[:,100], '*')"
   ]
  },
  {
   "cell_type": "code",
   "execution_count": 26,
   "metadata": {},
   "outputs": [
    {
     "data": {
      "text/plain": [
       "[<matplotlib.lines.Line2D at 0x7f3ad9fba518>]"
      ]
     },
     "execution_count": 26,
     "metadata": {},
     "output_type": "execute_result"
    },
    {
     "data": {
      "image/png": "[encoded data removed]",
      "text/plain": [
       "<Figure size 432x288 with 1 Axes>"
      ]
     },
     "metadata": {
      "needs_background": "light"
     },
     "output_type": "display_data"
    }
   ],
   "source": [
    "plt.semilogy(p_clusters[:,200], '*')"
   ]
  },
  {
   "cell_type": "code",
   "execution_count": 27,
   "metadata": {},
   "outputs": [
    {
     "data": {
      "text/plain": [
       "[<matplotlib.lines.Line2D at 0x7f3ad9e88748>]"
      ]
     },
     "execution_count": 27,
     "metadata": {},
     "output_type": "execute_result"
    },
    {
     "data": {
      "image/png": "[encoded data removed]",
      "text/plain": [
       "<Figure size 432x288 with 1 Axes>"
      ]
     },
     "metadata": {
      "needs_background": "light"
     },
     "output_type": "display_data"
    }
   ],
   "source": [
    "plt.semilogy(p_clusters[:,300], '*')"
   ]
  },
  {
   "cell_type": "code",
   "execution_count": 28,
   "metadata": {},
   "outputs": [
    {
     "data": {
      "text/plain": [
       "[<matplotlib.lines.Line2D at 0x7f3ad9d93ac8>]"
      ]
     },
     "execution_count": 28,
     "metadata": {},
     "output_type": "execute_result"
    },
    {
     "data": {
      "image/png": "[encoded data removed]",
      "text/plain": [
       "<Figure size 432x288 with 1 Axes>"
      ]
     },
     "metadata": {
      "needs_background": "light"
     },
     "output_type": "display_data"
    }
   ],
   "source": [
    "plt.semilogy(p_clusters[:,400], '*')"
   ]
  },
  {
   "cell_type": "code",
   "execution_count": 29,
   "metadata": {},
   "outputs": [
    {
     "data": {
      "text/plain": [
       "[<matplotlib.lines.Line2D at 0x7f3ad9c825f8>]"
      ]
     },
     "execution_count": 29,
     "metadata": {},
     "output_type": "execute_result"
    },
    {
     "data": {
      "image/png": "[encoded data removed]",
      "text/plain": [
       "<Figure size 432x288 with 1 Axes>"
      ]
     },
     "metadata": {
      "needs_background": "light"
     },
     "output_type": "display_data"
    }
   ],
   "source": [
    "plt.semilogy(p_clusters[:,500], '*')"
   ]
  },
  {
   "cell_type": "code",
   "execution_count": null,
   "metadata": {},
   "outputs": [],
   "source": []
  }
 ],
 "metadata": {
  "kernelspec": {
   "display_name": "Python 3",
   "language": "python",
   "name": "python3"
  },
  "language_info": {
   "codemirror_mode": {
    "name": "ipython",
    "version": 3
   },
   "file_extension": ".py",
   "mimetype": "text/x-python",
   "name": "python",
   "nbconvert_exporter": "python",
   "pygments_lexer": "ipython3",
   "version": "3.7.3"
  }
 },
 "nbformat": 4,
 "nbformat_minor": 2
}
