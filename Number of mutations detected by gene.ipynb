{
 "cells": [
  {
   "cell_type": "code",
   "execution_count": 1,
   "metadata": {},
   "outputs": [],
   "source": [
    "from sqlalchemy import create_engine\n",
    "from sqlalchemy.orm import sessionmaker\n",
    "import re\n",
    "import numpy as np\n",
    "import pandas as pd\n",
    "\n",
    "import SequenceDataORM as sqd\n",
    "\n",
    "import matplotlib.pyplot as plt\n",
    "import seaborn as sns\n",
    "%matplotlib inline"
   ]
  },
  {
   "cell_type": "code",
   "execution_count": 2,
   "metadata": {},
   "outputs": [],
   "source": [
    "engine = create_engine('sqlite:///NS001_evolved_mutations_copy2.db', echo=False) # our database connection\n",
    "session = sessionmaker(bind=engine)() # the session object is how we make queries through sqlalchemy"
   ]
  },
  {
   "cell_type": "markdown",
   "metadata": {},
   "source": [
    "# How many times do we sequence a mutation per gene?\n",
    "\n",
    "In other words, do any genes show an unusual amount of mutations, i.e. are they possibly a target of selection and thus mutations in them sweep more often."
   ]
  },
  {
   "cell_type": "code",
   "execution_count": 3,
   "metadata": {},
   "outputs": [],
   "source": [
    "df = pd.read_sql_query('SELECT gene, COUNT(1) AS X '\n",
    "                       'FROM snp_mutations '\n",
    "                       'JOIN snp_evidence '\n",
    "                       'ON snp_mutations.chr_position = snp_evidence.chr_position '\n",
    "                       'GROUP BY gene ORDER BY X DESC', engine)"
   ]
  },
  {
   "cell_type": "code",
   "execution_count": 4,
   "metadata": {},
   "outputs": [
    {
     "data": {
      "text/html": [
       "<div>\n",
       "<style scoped>\n",
       "    .dataframe tbody tr th:only-of-type {\n",
       "        vertical-align: middle;\n",
       "    }\n",
       "\n",
       "    .dataframe tbody tr th {\n",
       "        vertical-align: top;\n",
       "    }\n",
       "\n",
       "    .dataframe thead th {\n",
       "        text-align: right;\n",
       "    }\n",
       "</style>\n",
       "<table border=\"1\" class=\"dataframe\">\n",
       "  <thead>\n",
       "    <tr style=\"text-align: right;\">\n",
       "      <th></th>\n",
       "      <th>gene</th>\n",
       "      <th>X</th>\n",
       "    </tr>\n",
       "  </thead>\n",
       "  <tbody>\n",
       "    <tr>\n",
       "      <th>0</th>\n",
       "      <td>gltP/yjcO</td>\n",
       "      <td>117</td>\n",
       "    </tr>\n",
       "    <tr>\n",
       "      <th>1</th>\n",
       "      <td>amiB/mutL</td>\n",
       "      <td>37</td>\n",
       "    </tr>\n",
       "    <tr>\n",
       "      <th>2</th>\n",
       "      <td>murC|ddlB</td>\n",
       "      <td>27</td>\n",
       "    </tr>\n",
       "    <tr>\n",
       "      <th>3</th>\n",
       "      <td>trkA</td>\n",
       "      <td>27</td>\n",
       "    </tr>\n",
       "    <tr>\n",
       "      <th>4</th>\n",
       "      <td>yhiI</td>\n",
       "      <td>23</td>\n",
       "    </tr>\n",
       "    <tr>\n",
       "      <th>5</th>\n",
       "      <td>htrE</td>\n",
       "      <td>20</td>\n",
       "    </tr>\n",
       "    <tr>\n",
       "      <th>6</th>\n",
       "      <td>fdrA</td>\n",
       "      <td>18</td>\n",
       "    </tr>\n",
       "    <tr>\n",
       "      <th>7</th>\n",
       "      <td>brnQ</td>\n",
       "      <td>17</td>\n",
       "    </tr>\n",
       "    <tr>\n",
       "      <th>8</th>\n",
       "      <td>ffh</td>\n",
       "      <td>17</td>\n",
       "    </tr>\n",
       "    <tr>\n",
       "      <th>9</th>\n",
       "      <td>pncA/ydjE</td>\n",
       "      <td>17</td>\n",
       "    </tr>\n",
       "    <tr>\n",
       "      <th>10</th>\n",
       "      <td>frvB</td>\n",
       "      <td>15</td>\n",
       "    </tr>\n",
       "    <tr>\n",
       "      <th>11</th>\n",
       "      <td>mfd</td>\n",
       "      <td>15</td>\n",
       "    </tr>\n",
       "    <tr>\n",
       "      <th>12</th>\n",
       "      <td>torS/torT</td>\n",
       "      <td>15</td>\n",
       "    </tr>\n",
       "    <tr>\n",
       "      <th>13</th>\n",
       "      <td>cysQ/ytfI</td>\n",
       "      <td>14</td>\n",
       "    </tr>\n",
       "    <tr>\n",
       "      <th>14</th>\n",
       "      <td>galP</td>\n",
       "      <td>13</td>\n",
       "    </tr>\n",
       "    <tr>\n",
       "      <th>15</th>\n",
       "      <td>betB</td>\n",
       "      <td>12</td>\n",
       "    </tr>\n",
       "    <tr>\n",
       "      <th>16</th>\n",
       "      <td>mepH</td>\n",
       "      <td>12</td>\n",
       "    </tr>\n",
       "    <tr>\n",
       "      <th>17</th>\n",
       "      <td>narZ/narU</td>\n",
       "      <td>12</td>\n",
       "    </tr>\n",
       "    <tr>\n",
       "      <th>18</th>\n",
       "      <td>rhsD</td>\n",
       "      <td>12</td>\n",
       "    </tr>\n",
       "    <tr>\n",
       "      <th>19</th>\n",
       "      <td>phoH</td>\n",
       "      <td>11</td>\n",
       "    </tr>\n",
       "    <tr>\n",
       "      <th>20</th>\n",
       "      <td>murF</td>\n",
       "      <td>10</td>\n",
       "    </tr>\n",
       "    <tr>\n",
       "      <th>21</th>\n",
       "      <td>sufB</td>\n",
       "      <td>10</td>\n",
       "    </tr>\n",
       "    <tr>\n",
       "      <th>22</th>\n",
       "      <td>cutC</td>\n",
       "      <td>9</td>\n",
       "    </tr>\n",
       "    <tr>\n",
       "      <th>23</th>\n",
       "      <td>sufD</td>\n",
       "      <td>9</td>\n",
       "    </tr>\n",
       "    <tr>\n",
       "      <th>24</th>\n",
       "      <td>etk</td>\n",
       "      <td>8</td>\n",
       "    </tr>\n",
       "    <tr>\n",
       "      <th>25</th>\n",
       "      <td>pheM/rplT</td>\n",
       "      <td>8</td>\n",
       "    </tr>\n",
       "    <tr>\n",
       "      <th>26</th>\n",
       "      <td>rne</td>\n",
       "      <td>8</td>\n",
       "    </tr>\n",
       "    <tr>\n",
       "      <th>27</th>\n",
       "      <td>ydeT/yneL</td>\n",
       "      <td>8</td>\n",
       "    </tr>\n",
       "    <tr>\n",
       "      <th>28</th>\n",
       "      <td>aspA</td>\n",
       "      <td>7</td>\n",
       "    </tr>\n",
       "    <tr>\n",
       "      <th>29</th>\n",
       "      <td>ftsK</td>\n",
       "      <td>7</td>\n",
       "    </tr>\n",
       "    <tr>\n",
       "      <th>...</th>\n",
       "      <td>...</td>\n",
       "      <td>...</td>\n",
       "    </tr>\n",
       "    <tr>\n",
       "      <th>756</th>\n",
       "      <td>yjhC</td>\n",
       "      <td>1</td>\n",
       "    </tr>\n",
       "    <tr>\n",
       "      <th>757</th>\n",
       "      <td>yjhG</td>\n",
       "      <td>1</td>\n",
       "    </tr>\n",
       "    <tr>\n",
       "      <th>758</th>\n",
       "      <td>yjiJ</td>\n",
       "      <td>1</td>\n",
       "    </tr>\n",
       "    <tr>\n",
       "      <th>759</th>\n",
       "      <td>yjiT</td>\n",
       "      <td>1</td>\n",
       "    </tr>\n",
       "    <tr>\n",
       "      <th>760</th>\n",
       "      <td>yjjG</td>\n",
       "      <td>1</td>\n",
       "    </tr>\n",
       "    <tr>\n",
       "      <th>761</th>\n",
       "      <td>yjjJ</td>\n",
       "      <td>1</td>\n",
       "    </tr>\n",
       "    <tr>\n",
       "      <th>762</th>\n",
       "      <td>yjjW</td>\n",
       "      <td>1</td>\n",
       "    </tr>\n",
       "    <tr>\n",
       "      <th>763</th>\n",
       "      <td>ykfJ</td>\n",
       "      <td>1</td>\n",
       "    </tr>\n",
       "    <tr>\n",
       "      <th>764</th>\n",
       "      <td>ykgE</td>\n",
       "      <td>1</td>\n",
       "    </tr>\n",
       "    <tr>\n",
       "      <th>765</th>\n",
       "      <td>ylbF</td>\n",
       "      <td>1</td>\n",
       "    </tr>\n",
       "    <tr>\n",
       "      <th>766</th>\n",
       "      <td>ylcI</td>\n",
       "      <td>1</td>\n",
       "    </tr>\n",
       "    <tr>\n",
       "      <th>767</th>\n",
       "      <td>yliI</td>\n",
       "      <td>1</td>\n",
       "    </tr>\n",
       "    <tr>\n",
       "      <th>768</th>\n",
       "      <td>ymfL</td>\n",
       "      <td>1</td>\n",
       "    </tr>\n",
       "    <tr>\n",
       "      <th>769</th>\n",
       "      <td>ymfN|aaaE</td>\n",
       "      <td>1</td>\n",
       "    </tr>\n",
       "    <tr>\n",
       "      <th>770</th>\n",
       "      <td>ymgF</td>\n",
       "      <td>1</td>\n",
       "    </tr>\n",
       "    <tr>\n",
       "      <th>771</th>\n",
       "      <td>ynaE</td>\n",
       "      <td>1</td>\n",
       "    </tr>\n",
       "    <tr>\n",
       "      <th>772</th>\n",
       "      <td>ynaI</td>\n",
       "      <td>1</td>\n",
       "    </tr>\n",
       "    <tr>\n",
       "      <th>773</th>\n",
       "      <td>yncD</td>\n",
       "      <td>1</td>\n",
       "    </tr>\n",
       "    <tr>\n",
       "      <th>774</th>\n",
       "      <td>yncE</td>\n",
       "      <td>1</td>\n",
       "    </tr>\n",
       "    <tr>\n",
       "      <th>775</th>\n",
       "      <td>ynfE</td>\n",
       "      <td>1</td>\n",
       "    </tr>\n",
       "    <tr>\n",
       "      <th>776</th>\n",
       "      <td>yobB</td>\n",
       "      <td>1</td>\n",
       "    </tr>\n",
       "    <tr>\n",
       "      <th>777</th>\n",
       "      <td>yoeA</td>\n",
       "      <td>1</td>\n",
       "    </tr>\n",
       "    <tr>\n",
       "      <th>778</th>\n",
       "      <td>ypdA</td>\n",
       "      <td>1</td>\n",
       "    </tr>\n",
       "    <tr>\n",
       "      <th>779</th>\n",
       "      <td>yphA</td>\n",
       "      <td>1</td>\n",
       "    </tr>\n",
       "    <tr>\n",
       "      <th>780</th>\n",
       "      <td>yqhD</td>\n",
       "      <td>1</td>\n",
       "    </tr>\n",
       "    <tr>\n",
       "      <th>781</th>\n",
       "      <td>ysdD</td>\n",
       "      <td>1</td>\n",
       "    </tr>\n",
       "    <tr>\n",
       "      <th>782</th>\n",
       "      <td>yshB/glnG</td>\n",
       "      <td>1</td>\n",
       "    </tr>\n",
       "    <tr>\n",
       "      <th>783</th>\n",
       "      <td>ytfB</td>\n",
       "      <td>1</td>\n",
       "    </tr>\n",
       "    <tr>\n",
       "      <th>784</th>\n",
       "      <td>ytfF</td>\n",
       "      <td>1</td>\n",
       "    </tr>\n",
       "    <tr>\n",
       "      <th>785</th>\n",
       "      <td>zntA</td>\n",
       "      <td>1</td>\n",
       "    </tr>\n",
       "  </tbody>\n",
       "</table>\n",
       "<p>786 rows × 2 columns</p>\n",
       "</div>"
      ],
      "text/plain": [
       "          gene    X\n",
       "0    gltP/yjcO  117\n",
       "1    amiB/mutL   37\n",
       "2    murC|ddlB   27\n",
       "3         trkA   27\n",
       "4         yhiI   23\n",
       "5         htrE   20\n",
       "6         fdrA   18\n",
       "7         brnQ   17\n",
       "8          ffh   17\n",
       "9    pncA/ydjE   17\n",
       "10        frvB   15\n",
       "11         mfd   15\n",
       "12   torS/torT   15\n",
       "13   cysQ/ytfI   14\n",
       "14        galP   13\n",
       "15        betB   12\n",
       "16        mepH   12\n",
       "17   narZ/narU   12\n",
       "18        rhsD   12\n",
       "19        phoH   11\n",
       "20        murF   10\n",
       "21        sufB   10\n",
       "22        cutC    9\n",
       "23        sufD    9\n",
       "24         etk    8\n",
       "25   pheM/rplT    8\n",
       "26         rne    8\n",
       "27   ydeT/yneL    8\n",
       "28        aspA    7\n",
       "29        ftsK    7\n",
       "..         ...  ...\n",
       "756       yjhC    1\n",
       "757       yjhG    1\n",
       "758       yjiJ    1\n",
       "759       yjiT    1\n",
       "760       yjjG    1\n",
       "761       yjjJ    1\n",
       "762       yjjW    1\n",
       "763       ykfJ    1\n",
       "764       ykgE    1\n",
       "765       ylbF    1\n",
       "766       ylcI    1\n",
       "767       yliI    1\n",
       "768       ymfL    1\n",
       "769  ymfN|aaaE    1\n",
       "770       ymgF    1\n",
       "771       ynaE    1\n",
       "772       ynaI    1\n",
       "773       yncD    1\n",
       "774       yncE    1\n",
       "775       ynfE    1\n",
       "776       yobB    1\n",
       "777       yoeA    1\n",
       "778       ypdA    1\n",
       "779       yphA    1\n",
       "780       yqhD    1\n",
       "781       ysdD    1\n",
       "782  yshB/glnG    1\n",
       "783       ytfB    1\n",
       "784       ytfF    1\n",
       "785       zntA    1\n",
       "\n",
       "[786 rows x 2 columns]"
      ]
     },
     "execution_count": 4,
     "metadata": {},
     "output_type": "execute_result"
    }
   ],
   "source": [
    "df"
   ]
  },
  {
   "cell_type": "markdown",
   "metadata": {},
   "source": [
    "Most of the genes where a mutation was sequenced many times are cases where the mutation occurred in the ancestor. I need to filter those out before aggregating up my counts. Doing this in SQL directly may be harder than using the ORM since I need to filter out any mutation which occurred in the ancestor from descendants which have the same mutation as well."
   ]
  },
  {
   "cell_type": "code",
   "execution_count": 5,
   "metadata": {},
   "outputs": [],
   "source": [
    "nonancestral_mutations = [snp for snp in session.query(sqd.SNP_Mutation)\n",
    "                          if ('Aggregate_NS001_Ancestors' not in snp.samples) and\n",
    "                             ('Ancestor_S1' not in snp.samples) and\n",
    "                             ('Ancestor_S2' not in snp.samples) and\n",
    "                             ('Ancestor_S3' not in snp.samples)]"
   ]
  },
  {
   "cell_type": "code",
   "execution_count": 6,
   "metadata": {},
   "outputs": [
    {
     "data": {
      "text/plain": [
       "874"
      ]
     },
     "execution_count": 6,
     "metadata": {},
     "output_type": "execute_result"
    }
   ],
   "source": [
    "len(nonancestral_mutations)"
   ]
  },
  {
   "cell_type": "code",
   "execution_count": 7,
   "metadata": {},
   "outputs": [
    {
     "data": {
      "text/plain": [
       "<SNP_Mutation(chr_position=105395, ref_base=C, new_base=T, gene=ftsZ)>"
      ]
     },
     "execution_count": 7,
     "metadata": {},
     "output_type": "execute_result"
    }
   ],
   "source": [
    "nonancestral_mutations[0]"
   ]
  },
  {
   "cell_type": "code",
   "execution_count": 8,
   "metadata": {},
   "outputs": [],
   "source": [
    "count_dict = {}\n",
    "for mut in nonancestral_mutations:\n",
    "    if mut.gene in count_dict:\n",
    "        count_dict[mut.gene] = count_dict[mut.gene] + 1\n",
    "    else:\n",
    "        count_dict[mut.gene] = 1"
   ]
  },
  {
   "cell_type": "code",
   "execution_count": 9,
   "metadata": {},
   "outputs": [
    {
     "data": {
      "text/plain": [
       "739"
      ]
     },
     "execution_count": 9,
     "metadata": {},
     "output_type": "execute_result"
    }
   ],
   "source": [
    "len(count_dict)"
   ]
  },
  {
   "cell_type": "code",
   "execution_count": 10,
   "metadata": {},
   "outputs": [
    {
     "data": {
      "text/plain": [
       "sufB         8\n",
       "gabT         7\n",
       "rne          6\n",
       "ftsK         6\n",
       "yieF/adeP    6\n",
       "yfjF         5\n",
       "rhsD         5\n",
       "ptsP         4\n",
       "yneO         4\n",
       "ynjC         4\n",
       "cas3         3\n",
       "yeeJ         3\n",
       "mzrA/yqjC    3\n",
       "glgX         3\n",
       "flu          3\n",
       "rodZ/rlmN    3\n",
       "pheT         3\n",
       "ydbA         3\n",
       "rpoB         3\n",
       "eco/mqo      3\n",
       "etk          3\n",
       "yahH         3\n",
       "sufC         3\n",
       "yjjV/yjjW    3\n",
       "lpxD         2\n",
       "glpB         2\n",
       "parC         2\n",
       "murF         2\n",
       "yniB         2\n",
       "phnG         2\n",
       "            ..\n",
       "rapA         1\n",
       "proP/pmrR    1\n",
       "metH         1\n",
       "yqhD         1\n",
       "mscS         1\n",
       "serA         1\n",
       "xanQ         1\n",
       "katE         1\n",
       "ydjZ         1\n",
       "creD         1\n",
       "gspG         1\n",
       "lptF         1\n",
       "tamA         1\n",
       "aspA         1\n",
       "yshB/glnG    1\n",
       "yidL         1\n",
       "malS         1\n",
       "bcsA         1\n",
       "tusB         1\n",
       "gltB         1\n",
       "araG         1\n",
       "kduI         1\n",
       "argA         1\n",
       "cysN         1\n",
       "dgcN         1\n",
       "truA         1\n",
       "nuoG         1\n",
       "gatD         1\n",
       "yeeJ/yeeL    1\n",
       "ftsZ         1\n",
       "Length: 739, dtype: int64"
      ]
     },
     "execution_count": 10,
     "metadata": {},
     "output_type": "execute_result"
    }
   ],
   "source": [
    "pd.Series(count_dict).sort_values(ascending=False)"
   ]
  },
  {
   "cell_type": "markdown",
   "metadata": {},
   "source": [
    "Some of these genes occur a lot more than twice. These are distinct mutations with different sequence changes. I also need to investigate how many times each of these mutations was found while sequencing but avoid double counting mutations found at both time t1 and time t2.\n",
    "\n",
    "But roughly speaking, the chance a given mutation would be found X times is a poisson distribution (not exactly true, but the chance a mutation is found sequencing is low and we detect many mutations so... probably close enough). There are ~4,000 genes in e. coli so since we found 739 genes with mutations, we'll take the mean number of times a gene is found sequencing to be ~.2.\n",
    "\n",
    "Then the odds of finding a gene 6 times would be."
   ]
  },
  {
   "cell_type": "code",
   "execution_count": 11,
   "metadata": {},
   "outputs": [
    {
     "data": {
      "text/plain": [
       "7.277606694026507e-08"
      ]
     },
     "execution_count": 11,
     "metadata": {},
     "output_type": "execute_result"
    }
   ],
   "source": [
    "(.2)**6*np.exp(-.2)/np.math.factorial(6)"
   ]
  },
  {
   "cell_type": "markdown",
   "metadata": {},
   "source": [
    "Unless I'm thinking this through wrong, I shouldn't have found any genes with 6 or more distinct mutations. At the very least, it should have been highly unlikely. Odds of something like one in ten thousand against finding a gene with so many mutations even once.\n",
    "\n",
    "Of course, this neglects that some genes may sequence poorly. This probably happens and could sink some things. So the thing to check is the frequency of these detected mutations. If mutations are high frequency and high coverage then the gene probably sequences ok if we didn't detect that mutation over and over. Although there's probably some sort of bonferroni type correction that needs to be applied.\n",
    "\n",
    "Let's see how well this count holds up if we ignore synonymous mutations."
   ]
  },
  {
   "cell_type": "code",
   "execution_count": 12,
   "metadata": {},
   "outputs": [],
   "source": [
    "nonsyn_count_dict = {}\n",
    "for mut in nonancestral_mutations:\n",
    "    if not mut.synonymous:\n",
    "        if mut.gene in nonsyn_count_dict:\n",
    "            nonsyn_count_dict[mut.gene] = nonsyn_count_dict[mut.gene] + 1\n",
    "        else:\n",
    "            nonsyn_count_dict[mut.gene] = 1"
   ]
  },
  {
   "cell_type": "code",
   "execution_count": 13,
   "metadata": {},
   "outputs": [
    {
     "data": {
      "text/plain": [
       "sufB    8\n",
       "rne     6\n",
       "rhsD    5\n",
       "gabT    5\n",
       "ptsP    4\n",
       "ynjC    4\n",
       "etk     3\n",
       "sufC    3\n",
       "yahH    3\n",
       "glgX    3\n",
       "yeeJ    3\n",
       "rpoB    3\n",
       "yfjF    3\n",
       "ftsK    3\n",
       "pykF    2\n",
       "rhsC    2\n",
       "sufS    2\n",
       "phnG    2\n",
       "mhpF    2\n",
       "menD    2\n",
       "ompT    2\n",
       "yjjB    2\n",
       "dtpD    2\n",
       "dnaE    2\n",
       "murF    2\n",
       "psuG    2\n",
       "rcsC    2\n",
       "parC    2\n",
       "ynfF    2\n",
       "cobS    2\n",
       "       ..\n",
       "nrdG    1\n",
       "gluQ    1\n",
       "sbcC    1\n",
       "narW    1\n",
       "yciW    1\n",
       "dksA    1\n",
       "ydjZ    1\n",
       "serA    1\n",
       "mscS    1\n",
       "yqhD    1\n",
       "rapA    1\n",
       "yadC    1\n",
       "gcl     1\n",
       "bioF    1\n",
       "minC    1\n",
       "sad     1\n",
       "ydfR    1\n",
       "nuoG    1\n",
       "lptF    1\n",
       "truA    1\n",
       "tmcA    1\n",
       "dgcN    1\n",
       "cysN    1\n",
       "gltB    1\n",
       "tusB    1\n",
       "malS    1\n",
       "yidL    1\n",
       "aspA    1\n",
       "tamA    1\n",
       "ftsZ    1\n",
       "Length: 448, dtype: int64"
      ]
     },
     "execution_count": 13,
     "metadata": {},
     "output_type": "execute_result"
    }
   ],
   "source": [
    "pd.Series(nonsyn_count_dict).sort_values(ascending=False)"
   ]
  },
  {
   "cell_type": "markdown",
   "metadata": {},
   "source": [
    "## Investigating the sequencing evidence for the 14 genes with the most nonsynonymous mutations"
   ]
  },
  {
   "cell_type": "code",
   "execution_count": 14,
   "metadata": {},
   "outputs": [],
   "source": [
    "mutation_ev_by_gene = {}\n",
    "for index in pd.Series(nonsyn_count_dict).index:\n",
    "    mutation_ev_by_gene[index] = [ev for ev in (session.query(sqd.SNP_Evidence)\n",
    "                                                           .join(sqd.SNP_Mutation)\n",
    "                                                           .filter(sqd.SNP_Mutation.gene==index)\n",
    "                                                           .order_by(sqd.SNP_Evidence.chr_position,\n",
    "                                                                     sqd.SNP_Evidence.sample))]"
   ]
  },
  {
   "cell_type": "code",
   "execution_count": 15,
   "metadata": {},
   "outputs": [
    {
     "name": "stdout",
     "output_type": "stream",
     "text": [
      "<SNP_Evidence(sample=Hi4t1_S1, chr_position=1761840, ref_base=C, new_base=T)> 0.872701645\n",
      "<SNP_Evidence(sample=Hi4t2_S1, chr_position=1761840, ref_base=C, new_base=T)> 0.18745327\n",
      "<SNP_Evidence(sample=Hi3t1_S1, chr_position=1762024, ref_base=G, new_base=A)> 0.0707144737\n",
      "<SNP_Evidence(sample=Hi1t1_S1, chr_position=1762267, ref_base=A, new_base=G)> 0.407216549\n",
      "<SNP_Evidence(sample=Hi1t2_S1, chr_position=1762291, ref_base=A, new_base=G)> 0.193992615\n",
      "<SNP_Evidence(sample=HiMid2t2_S1, chr_position=1762299, ref_base=C, new_base=T)> 0.357156754\n",
      "<SNP_Evidence(sample=Hi3t1_S1, chr_position=1762315, ref_base=A, new_base=G)> 0.337581158\n",
      "<SNP_Evidence(sample=HiMid3t1_S1, chr_position=1762497, ref_base=C, new_base=T)> 0.945244312\n",
      "<SNP_Evidence(sample=HiMid3t2_S1, chr_position=1762497, ref_base=C, new_base=T)> 0.837644577\n",
      "<SNP_Evidence(sample=HiMid4t1_S1, chr_position=1762620, ref_base=T, new_base=C)> 0.104299068\n"
     ]
    }
   ],
   "source": [
    "for mut in mutation_ev_by_gene['sufB']:\n",
    "    print(mut, mut.frequency)"
   ]
  },
  {
   "cell_type": "code",
   "execution_count": 16,
   "metadata": {},
   "outputs": [
    {
     "name": "stdout",
     "output_type": "stream",
     "text": [
      "<SNP_Evidence(sample=Mid4t1_S1, chr_position=1140822, ref_base=C, new_base=T)> 0.145970345\n",
      "<SNP_Evidence(sample=Hi1t2_S1, chr_position=1142094, ref_base=A, new_base=G)> 0.113417149\n",
      "<SNP_Evidence(sample=Mid2t1_S1, chr_position=1142379, ref_base=G, new_base=A)> 0.0553503036\n",
      "<SNP_Evidence(sample=Hi2t1_S1, chr_position=1142477, ref_base=G, new_base=A)> 0.913094044\n",
      "<SNP_Evidence(sample=Hi2t2_S1, chr_position=1142477, ref_base=G, new_base=A)> 0.554895401\n",
      "<SNP_Evidence(sample=Hi3t1_S1, chr_position=1142816, ref_base=T, new_base=C)> 0.263482571\n",
      "<SNP_Evidence(sample=Hi3t2_S1, chr_position=1142816, ref_base=T, new_base=C)> 0.808775902\n",
      "<SNP_Evidence(sample=Hi1t2_S1, chr_position=1143263, ref_base=C, new_base=T)> 0.114051342\n"
     ]
    }
   ],
   "source": [
    "for mut in mutation_ev_by_gene['rne']:\n",
    "    print(mut, mut.frequency)"
   ]
  },
  {
   "cell_type": "code",
   "execution_count": 17,
   "metadata": {},
   "outputs": [
    {
     "name": "stdout",
     "output_type": "stream",
     "text": [
      "<SNP_Evidence(sample=Mid1t2_S1, chr_position=522758, ref_base=T, new_base=C)> 0.059360981\n",
      "<SNP_Evidence(sample=LoMid4t2_S1, chr_position=522818, ref_base=T, new_base=C)> 0.0547037125\n",
      "<SNP_Evidence(sample=Lo4t1_S1, chr_position=523100, ref_base=A, new_base=C)> 0.0583357811\n",
      "<SNP_Evidence(sample=Lo2t1_S1, chr_position=524183, ref_base=T, new_base=C)> 0.0863161087\n",
      "<SNP_Evidence(sample=Lo2t2_S1, chr_position=524183, ref_base=T, new_base=C)> 0.843327999\n",
      "<SNP_Evidence(sample=Lo4t1_S1, chr_position=524183, ref_base=T, new_base=C)> 0.177276611\n",
      "<SNP_Evidence(sample=Lo4t2_S1, chr_position=524183, ref_base=T, new_base=C)> 0.106831551\n",
      "<SNP_Evidence(sample=LoMid4t2_S1, chr_position=524183, ref_base=T, new_base=C)> 0.31117487\n",
      "<SNP_Evidence(sample=Mid2t1_S1, chr_position=524183, ref_base=T, new_base=C)> 0.141783714\n",
      "<SNP_Evidence(sample=Mid2t2_S1, chr_position=524183, ref_base=T, new_base=C)> 0.147058487\n",
      "<SNP_Evidence(sample=LoMid4t1_S1, chr_position=524492, ref_base=A, new_base=G)> 0.275894642\n",
      "<SNP_Evidence(sample=LoMid4t2_S1, chr_position=524492, ref_base=A, new_base=G)> 0.336898327\n"
     ]
    }
   ],
   "source": [
    "for mut in mutation_ev_by_gene['rhsD']:\n",
    "    print(mut, mut.frequency)"
   ]
  },
  {
   "cell_type": "code",
   "execution_count": 18,
   "metadata": {},
   "outputs": [
    {
     "name": "stdout",
     "output_type": "stream",
     "text": [
      "<SNP_Evidence(sample=HiMid3t2_S1, chr_position=2793107, ref_base=C, new_base=T)> 0.0549821854 2/2 34/39\n",
      "<SNP_Evidence(sample=HiMid3t2_S1, chr_position=2793110, ref_base=C, new_base=G)> 0.0548300743 2/2 34/39\n",
      "<SNP_Evidence(sample=HiMid3t2_S1, chr_position=2793111, ref_base=A, new_base=T)> 0.0547680855 2/2 34/39\n",
      "<SNP_Evidence(sample=HiMid3t2_S1, chr_position=2793112, ref_base=A, new_base=T)> 0.0548152924 2/2 34/39\n",
      "<SNP_Evidence(sample=HiMid3t2_S1, chr_position=2793113, ref_base=A, new_base=T)> 0.054792881 2/2 34/39\n",
      "<SNP_Evidence(sample=HiMid3t2_S1, chr_position=2793114, ref_base=C, new_base=G)> 0.0540738106 2/2 35/39\n",
      "<SNP_Evidence(sample=HiMid3t2_S1, chr_position=2793117, ref_base=A, new_base=G)> 0.0555243492 2/2 34/38\n"
     ]
    }
   ],
   "source": [
    "for mut in mutation_ev_by_gene['gabT']:\n",
    "    print(mut, mut.frequency, mut.new_cov, mut.total_cov)"
   ]
  },
  {
   "cell_type": "markdown",
   "metadata": {},
   "source": [
    "All the gabT mutations come from a single sample, are very close together, and are low coverage. This could just be PCR or sequencing on a segment of genomic DNA gone horribly wrong once. It's probably best to ignore the gabT mutations then."
   ]
  },
  {
   "cell_type": "code",
   "execution_count": 19,
   "metadata": {},
   "outputs": [
    {
     "name": "stdout",
     "output_type": "stream",
     "text": [
      "<SNP_Evidence(sample=HiMid3t2_S1, chr_position=2966385, ref_base=C, new_base=T)> 0.130889416\n",
      "<SNP_Evidence(sample=Hi1t2_S1, chr_position=2967681, ref_base=T, new_base=C)> 0.25425005\n",
      "<SNP_Evidence(sample=Hi3t2_S1, chr_position=2967940, ref_base=G, new_base=A)> 0.339678288\n",
      "<SNP_Evidence(sample=Hi3t2_S1, chr_position=2968045, ref_base=G, new_base=A)> 0.0741372108\n"
     ]
    }
   ],
   "source": [
    "for mut in mutation_ev_by_gene['ptsP']:\n",
    "    print(mut, mut.frequency)"
   ]
  },
  {
   "cell_type": "code",
   "execution_count": 20,
   "metadata": {},
   "outputs": [
    {
     "name": "stdout",
     "output_type": "stream",
     "text": [
      "<SNP_Evidence(sample=HiMid3t1_S1, chr_position=1837451, ref_base=G, new_base=T)> 0.0506176949 2/2 40/38\n",
      "<SNP_Evidence(sample=HiMid3t1_S1, chr_position=1837452, ref_base=G, new_base=C)> 0.0584836006 3/2 40/38\n",
      "<SNP_Evidence(sample=HiMid3t1_S1, chr_position=1837453, ref_base=G, new_base=C)> 0.0514974594 2/2 40/38\n",
      "<SNP_Evidence(sample=HiMid3t1_S1, chr_position=1837454, ref_base=G, new_base=A)> 0.0513763428 2/2 40/38\n"
     ]
    }
   ],
   "source": [
    "for mut in mutation_ev_by_gene['ynjC']:\n",
    "    print(mut, mut.frequency, mut.new_cov, mut.total_cov)"
   ]
  },
  {
   "cell_type": "markdown",
   "metadata": {},
   "source": [
    "All the ynjC mutations occur in a single sample, close together (in fact in a row), and at low coverage. Probably best to ignore."
   ]
  },
  {
   "cell_type": "code",
   "execution_count": 21,
   "metadata": {},
   "outputs": [
    {
     "name": "stdout",
     "output_type": "stream",
     "text": [
      "<SNP_Evidence(sample=HiMid3t1_S1, chr_position=1041585, ref_base=A, new_base=G)> 0.0505862236 2/2 40/39\n",
      "<SNP_Evidence(sample=Hi3t2_S1, chr_position=1042617, ref_base=T, new_base=C)> 0.238503456 8/9 38/35\n",
      "<SNP_Evidence(sample=LoMid1t1_S1, chr_position=1042617, ref_base=T, new_base=C)> 0.263982296 10/7 33/32\n",
      "<SNP_Evidence(sample=Mid1t1_S1, chr_position=1042617, ref_base=T, new_base=C)> 0.654597282 16/18 26/26\n",
      "<SNP_Evidence(sample=Mid1t2_S1, chr_position=1042617, ref_base=T, new_base=C)> 1.0 32/30 32/30\n",
      "<SNP_Evidence(sample=Mid2t1_S1, chr_position=1042617, ref_base=T, new_base=C)> 0.191437244 5/4 23/24\n",
      "<SNP_Evidence(sample=Mid2t2_S1, chr_position=1042617, ref_base=T, new_base=C)> 0.11360836 4/6 44/44\n",
      "<SNP_Evidence(sample=Mid1t2_S1, chr_position=1043334, ref_base=A, new_base=T)> 0.059237957 2/2 32/30\n"
     ]
    }
   ],
   "source": [
    "for mut in mutation_ev_by_gene['etk']:\n",
    "    print(mut, mut.frequency, mut.new_cov, mut.total_cov)"
   ]
  },
  {
   "cell_type": "code",
   "execution_count": 22,
   "metadata": {},
   "outputs": [
    {
     "name": "stdout",
     "output_type": "stream",
     "text": [
      "<SNP_Evidence(sample=Hi4t2_S1, chr_position=1761133, ref_base=T, new_base=C)> 0.151769638 2/3 17/16\n",
      "<SNP_Evidence(sample=HiMid1t2_S1, chr_position=1761219, ref_base=T, new_base=C)> 0.0727200508 2/2 27/28\n",
      "<SNP_Evidence(sample=Lo1t1_S1, chr_position=1761225, ref_base=T, new_base=C)> 0.122981071 4/4 33/32\n",
      "<SNP_Evidence(sample=Lo1t2_S1, chr_position=1761225, ref_base=T, new_base=C)> 0.112802982 4/3 32/30\n"
     ]
    }
   ],
   "source": [
    "for mut in mutation_ev_by_gene['sufC']:\n",
    "    print(mut, mut.frequency, mut.new_cov, mut.total_cov)"
   ]
  },
  {
   "cell_type": "code",
   "execution_count": 23,
   "metadata": {},
   "outputs": [
    {
     "name": "stdout",
     "output_type": "stream",
     "text": [
      "<SNP_Evidence(sample=HiMid2t2_S1, chr_position=339066, ref_base=T, new_base=C)> 0.111017227 2/2 16/20\n",
      "<SNP_Evidence(sample=HiMid2t2_S1, chr_position=339072, ref_base=T, new_base=C)> 0.114326 2/2 16/19\n",
      "<SNP_Evidence(sample=HiMid2t2_S1, chr_position=339089, ref_base=A, new_base=G)> 0.114393234 2/2 16/19\n"
     ]
    }
   ],
   "source": [
    "for mut in mutation_ev_by_gene['yahH']:\n",
    "    print(mut, mut.frequency, mut.new_cov, mut.total_cov)"
   ]
  },
  {
   "cell_type": "markdown",
   "metadata": {},
   "source": [
    "All yahH mutations occur in a single sample, close together (although not super close, ~10 bases apart) and at low coverage likely from the same 2 reads."
   ]
  },
  {
   "cell_type": "code",
   "execution_count": 24,
   "metadata": {},
   "outputs": [
    {
     "name": "stdout",
     "output_type": "stream",
     "text": [
      "<SNP_Evidence(sample=HiMid1t2_S1, chr_position=3569502, ref_base=G, new_base=A)> 0.0570073128 2/2 36/34\n",
      "<SNP_Evidence(sample=Mid2t1_S1, chr_position=3569852, ref_base=A, new_base=G)> 0.0625596046 2/2 31/32\n",
      "<SNP_Evidence(sample=Lo4t1_S1, chr_position=3570116, ref_base=C, new_base=T)> 0.0657372475 2/2 28/33\n"
     ]
    }
   ],
   "source": [
    "for mut in mutation_ev_by_gene['glgX']:\n",
    "    print(mut, mut.frequency, mut.new_cov, mut.total_cov)"
   ]
  },
  {
   "cell_type": "code",
   "execution_count": 25,
   "metadata": {},
   "outputs": [
    {
     "name": "stdout",
     "output_type": "stream",
     "text": [
      "<SNP_Evidence(sample=HiMid2t2_S1, chr_position=2046004, ref_base=G, new_base=T)> 0.065507412 2/2 26/26\n",
      "<SNP_Evidence(sample=HiMid3t2_S1, chr_position=2050483, ref_base=G, new_base=A)> 0.0539302826 2/2 36/38\n",
      "<SNP_Evidence(sample=LoMid2t1_S1, chr_position=2051027, ref_base=A, new_base=T)> 0.0853638649 2/3 24/33\n"
     ]
    }
   ],
   "source": [
    "for mut in mutation_ev_by_gene['yeeJ']:\n",
    "    print(mut, mut.frequency, mut.new_cov, mut.total_cov)"
   ]
  },
  {
   "cell_type": "code",
   "execution_count": 26,
   "metadata": {},
   "outputs": [
    {
     "name": "stdout",
     "output_type": "stream",
     "text": [
      "<SNP_Evidence(sample=HiMid2t2_S1, chr_position=4182689, ref_base=G, new_base=A)> 0.400649071 5/5 12/13\n",
      "<SNP_Evidence(sample=LoMid3t1_S1, chr_position=4182888, ref_base=A, new_base=G)> 0.866933823 43/43 52/49\n",
      "<SNP_Evidence(sample=LoMid3t2_S1, chr_position=4182888, ref_base=A, new_base=G)> 1.0 48/37 50/37\n",
      "<SNP_Evidence(sample=LoMid1t1_S1, chr_position=4182957, ref_base=T, new_base=A)> 0.408305168 26/23 61/60\n",
      "<SNP_Evidence(sample=LoMid1t2_S1, chr_position=4182957, ref_base=T, new_base=A)> 0.895558834 48/44 54/49\n"
     ]
    }
   ],
   "source": [
    "for mut in mutation_ev_by_gene['rpoB']:\n",
    "    print(mut, mut.frequency, mut.new_cov, mut.total_cov)"
   ]
  },
  {
   "cell_type": "code",
   "execution_count": 27,
   "metadata": {},
   "outputs": [
    {
     "name": "stdout",
     "output_type": "stream",
     "text": [
      "<SNP_Evidence(sample=LoMid1t2_S1, chr_position=2754230, ref_base=T, new_base=A)> 0.077067852 2/2 28/24\n",
      "<SNP_Evidence(sample=LoMid1t2_S1, chr_position=2754231, ref_base=C, new_base=G)> 0.096098423 2/3 27/24\n",
      "<SNP_Evidence(sample=LoMid1t2_S1, chr_position=2754232, ref_base=A, new_base=T)> 0.0786390305 2/2 27/24\n",
      "<SNP_Evidence(sample=LoMid1t2_S1, chr_position=2754233, ref_base=C, new_base=G)> 0.0785579681 2/2 27/24\n",
      "<SNP_Evidence(sample=LoMid1t2_S1, chr_position=2754234, ref_base=T, new_base=A)> 0.0785822868 2/2 27/24\n"
     ]
    }
   ],
   "source": [
    "for mut in mutation_ev_by_gene['yfjF']:\n",
    "    print(mut, mut.frequency, mut.new_cov, mut.total_cov)"
   ]
  },
  {
   "cell_type": "markdown",
   "metadata": {},
   "source": [
    "All yfjF mutations occur in a single sample, adjacent to each other, and at low coverage likely from the same 2 reads"
   ]
  },
  {
   "cell_type": "code",
   "execution_count": 28,
   "metadata": {},
   "outputs": [
    {
     "name": "stdout",
     "output_type": "stream",
     "text": [
      "<SNP_Evidence(sample=Hi3t1_S1, chr_position=933928, ref_base=A, new_base=G)> 0.0600500107 2/2 36/31\n",
      "<SNP_Evidence(sample=Hi3t2_S1, chr_position=933928, ref_base=A, new_base=G)> 0.408807278 11/11 26/28\n",
      "<SNP_Evidence(sample=LoMid4t2_S1, chr_position=934688, ref_base=A, new_base=G)> 0.0585708618 2/2 36/32\n",
      "<SNP_Evidence(sample=LoMid4t2_S1, chr_position=934691, ref_base=G, new_base=A)> 0.0622596741 2/2 35/31\n",
      "<SNP_Evidence(sample=LoMid4t2_S1, chr_position=934721, ref_base=A, new_base=G)> 0.0611114502 2/2 35/31\n",
      "<SNP_Evidence(sample=LoMid4t2_S1, chr_position=934725, ref_base=C, new_base=G)> 0.0665922165 2/3 35/31\n",
      "<SNP_Evidence(sample=LoMid2t1_S1, chr_position=936210, ref_base=G, new_base=C)> 0.0628123283 3/2 36/34\n"
     ]
    }
   ],
   "source": [
    "for mut in mutation_ev_by_gene['ftsK']:\n",
    "    print(mut, mut.frequency, mut.new_cov, mut.total_cov)"
   ]
  },
  {
   "cell_type": "markdown",
   "metadata": {},
   "source": [
    "Of the 14 genes with the most distinct mutations, 4 of them are suspicious in the sense that all the mutations come from one sample at low coverage for the new mutation. It's possible that these are correlated mutations, but it's also possible these are just PCR or sequencing going badly for a bit (PCR once maybe? or sequencing calls twice).\n",
    "\n",
    "The mutations in sufB and sufC are related to iron-sulfur transport and seem promising for a story. I can also see that sufS got hit twice in the list, let's see how many 'suf' genes had nonsynonymous mutations"
   ]
  },
  {
   "cell_type": "code",
   "execution_count": 29,
   "metadata": {},
   "outputs": [
    {
     "name": "stdout",
     "output_type": "stream",
     "text": [
      "sufB\n",
      "sufE\n",
      "sufS\n",
      "sufD\n",
      "sufC\n"
     ]
    }
   ],
   "source": [
    "for key in nonsyn_count_dict:\n",
    "    if 'suf' in key:\n",
    "        print(key)"
   ]
  },
  {
   "cell_type": "code",
   "execution_count": 30,
   "metadata": {},
   "outputs": [
    {
     "name": "stdout",
     "output_type": "stream",
     "text": [
      "<SNP_Evidence(sample=Lo4t1_S1, chr_position=1759215, ref_base=C, new_base=T)> 0.0832509995 2/2 25/23\n",
      "<SNP_Evidence(sample=LoMid2t1_S1, chr_position=1759215, ref_base=C, new_base=T)> 0.637475014 17/23 28/35\n",
      "<SNP_Evidence(sample=LoMid2t2_S1, chr_position=1759215, ref_base=C, new_base=T)> 1.0 14/10 14/13\n",
      "<SNP_Evidence(sample=Hi3t1_S1, chr_position=1759381, ref_base=G, new_base=A)> 0.0653042793 2/2 29/32\n"
     ]
    }
   ],
   "source": [
    "for mut in mutation_ev_by_gene['sufS']:\n",
    "    print(mut, mut.frequency, mut.new_cov, mut.total_cov)"
   ]
  },
  {
   "cell_type": "code",
   "execution_count": 31,
   "metadata": {},
   "outputs": [
    {
     "name": "stdout",
     "output_type": "stream",
     "text": [
      "<SNP_Evidence(sample=Hi2t1_S1, chr_position=1758364, ref_base=A, new_base=G)> 0.829994202 21/28 26/33\n",
      "<SNP_Evidence(sample=Hi2t2_S1, chr_position=1758364, ref_base=A, new_base=G)> 0.624610901 13/13 22/21\n"
     ]
    }
   ],
   "source": [
    "for mut in mutation_ev_by_gene['sufE']:\n",
    "    print(mut, mut.frequency, mut.new_cov, mut.total_cov)"
   ]
  },
  {
   "cell_type": "code",
   "execution_count": 32,
   "metadata": {},
   "outputs": [
    {
     "name": "stdout",
     "output_type": "stream",
     "text": [
      "<SNP_Evidence(sample=HiMid2t1_S1, chr_position=1760934, ref_base=G, new_base=A)> 0.0799436569 2/3 32/32\n",
      "<SNP_Evidence(sample=Lo2t1_S1, chr_position=1760934, ref_base=G, new_base=A)> 0.0587720871 2/2 32/36\n",
      "<SNP_Evidence(sample=Lo2t2_S1, chr_position=1760934, ref_base=G, new_base=A)> 0.800232887 32/32 39/42\n",
      "<SNP_Evidence(sample=Lo4t1_S1, chr_position=1760934, ref_base=G, new_base=A)> 0.0683875084 3/2 37/36\n",
      "<SNP_Evidence(sample=Lo4t2_S1, chr_position=1760934, ref_base=G, new_base=A)> 0.150085926 7/9 52/53\n",
      "<SNP_Evidence(sample=LoMid4t1_S1, chr_position=1760934, ref_base=G, new_base=A)> 0.0925116539 3/3 33/32\n",
      "<SNP_Evidence(sample=LoMid4t2_S1, chr_position=1760934, ref_base=G, new_base=A)> 0.258062363 12/13 49/48\n",
      "<SNP_Evidence(sample=Mid2t1_S1, chr_position=1760934, ref_base=G, new_base=A)> 0.106333256 3/3 30/27\n",
      "<SNP_Evidence(sample=Mid2t2_S1, chr_position=1760934, ref_base=G, new_base=A)> 0.114959717 4/4 33/37\n"
     ]
    }
   ],
   "source": [
    "for mut in mutation_ev_by_gene['sufD']:\n",
    "    print(mut, mut.frequency, mut.new_cov, mut.total_cov)"
   ]
  },
  {
   "cell_type": "markdown",
   "metadata": {},
   "source": [
    "There are some high frequency mutations here too."
   ]
  },
  {
   "cell_type": "markdown",
   "metadata": {},
   "source": [
    "## Ribosomal proteins and polymerases\n",
    "\n",
    "The rpoB mutation is interesting because it's detectable, and has been found in cultures lingering in stationary phase before. Just spitballing, but how many genes start with 'rp' and have nonsynonymous mutations?"
   ]
  },
  {
   "cell_type": "code",
   "execution_count": 33,
   "metadata": {},
   "outputs": [
    {
     "name": "stdout",
     "output_type": "stream",
     "text": [
      "rplO\n",
      "rplB\n",
      "rplS\n",
      "rpoB\n",
      "rplQ\n",
      "rplU\n"
     ]
    }
   ],
   "source": [
    "for key in nonsyn_count_dict:\n",
    "    if re.match('rp', key):\n",
    "        print(key)"
   ]
  },
  {
   "cell_type": "code",
   "execution_count": 34,
   "metadata": {},
   "outputs": [
    {
     "name": "stdout",
     "output_type": "stream",
     "text": [
      "<SNP_Evidence(sample=Hi4t1_S1, chr_position=3444453, ref_base=T, new_base=C)> 0.0504918098 2/2 37/42\n"
     ]
    }
   ],
   "source": [
    "for mut in mutation_ev_by_gene['rplO']:\n",
    "    print(mut, mut.frequency, mut.new_cov, mut.total_cov)"
   ]
  },
  {
   "cell_type": "code",
   "execution_count": 35,
   "metadata": {},
   "outputs": [
    {
     "name": "stdout",
     "output_type": "stream",
     "text": [
      "<SNP_Evidence(sample=HiMid2t1_S1, chr_position=3451013, ref_base=T, new_base=C)> 0.164884567 7/7 44/39\n"
     ]
    }
   ],
   "source": [
    "for mut in mutation_ev_by_gene['rplB']:\n",
    "    print(mut, mut.frequency, mut.new_cov, mut.total_cov)"
   ]
  },
  {
   "cell_type": "code",
   "execution_count": 36,
   "metadata": {},
   "outputs": [
    {
     "name": "stdout",
     "output_type": "stream",
     "text": [
      "<SNP_Evidence(sample=HiMid4t1_S1, chr_position=2744372, ref_base=G, new_base=A)> 0.106283188 4/4 37/35\n",
      "<SNP_Evidence(sample=HiMid4t2_S1, chr_position=2744372, ref_base=G, new_base=A)> 0.103843689 4/4 39/38\n"
     ]
    }
   ],
   "source": [
    "for mut in mutation_ev_by_gene['rplS']:\n",
    "    print(mut, mut.frequency, mut.new_cov, mut.total_cov)"
   ]
  },
  {
   "cell_type": "code",
   "execution_count": 37,
   "metadata": {},
   "outputs": [
    {
     "name": "stdout",
     "output_type": "stream",
     "text": [
      "<SNP_Evidence(sample=Hi2t2_S1, chr_position=3439964, ref_base=G, new_base=A)> 0.0534105301 2/2 33/44\n"
     ]
    }
   ],
   "source": [
    "for mut in mutation_ev_by_gene['rplQ']:\n",
    "    print(mut, mut.frequency, mut.new_cov, mut.total_cov)"
   ]
  },
  {
   "cell_type": "code",
   "execution_count": 38,
   "metadata": {},
   "outputs": [
    {
     "name": "stdout",
     "output_type": "stream",
     "text": [
      "<SNP_Evidence(sample=Mid1t2_S1, chr_position=3333447, ref_base=T, new_base=C)> 0.0512113571 2/2 35/43\n"
     ]
    }
   ],
   "source": [
    "for mut in mutation_ev_by_gene['rplU']:\n",
    "    print(mut, mut.frequency, mut.new_cov, mut.total_cov)"
   ]
  },
  {
   "cell_type": "markdown",
   "metadata": {},
   "source": [
    "These are all low frequency and there are a lot of rp* genes so this may mean nothing. I need to control for the total fraction of the genome covered by a set of genes."
   ]
  },
  {
   "cell_type": "markdown",
   "metadata": {},
   "source": [
    "# Now let's check some other genes that were associated with pathways that the sufA operon is part of (or at least sufS is part of and sufS is part of the sufA operon)\n",
    "\n",
    "The associated genes/operons were found using the ecocyc database and manually looking for genes associated with the metabolic pathways sufS is part of (the other suf genes have no known pathways listed)."
   ]
  },
  {
   "cell_type": "code",
   "execution_count": 39,
   "metadata": {},
   "outputs": [],
   "source": [
    "for key in nonsyn_count_dict:\n",
    "    if re.match('thi', key):\n",
    "        print(key, nonsyn_count_dict[key])"
   ]
  },
  {
   "cell_type": "code",
   "execution_count": 40,
   "metadata": {},
   "outputs": [],
   "source": [
    "for key in nonsyn_count_dict:\n",
    "    if re.match('isc', key):\n",
    "        print(key, nonsyn_count_dict[key])"
   ]
  },
  {
   "cell_type": "code",
   "execution_count": 41,
   "metadata": {},
   "outputs": [],
   "source": [
    "for key in nonsyn_count_dict:\n",
    "    if re.match('hsc', key):\n",
    "        print(key, nonsyn_count_dict[key])"
   ]
  },
  {
   "cell_type": "code",
   "execution_count": 42,
   "metadata": {},
   "outputs": [
    {
     "name": "stdout",
     "output_type": "stream",
     "text": [
      "moeB 1\n"
     ]
    }
   ],
   "source": [
    "for key in nonsyn_count_dict:\n",
    "    if re.match('moe', key):\n",
    "        print(key, nonsyn_count_dict[key])"
   ]
  },
  {
   "cell_type": "code",
   "execution_count": 43,
   "metadata": {},
   "outputs": [
    {
     "name": "stdout",
     "output_type": "stream",
     "text": [
      "<SNP_Evidence(sample=Mid1t1_S1, chr_position=863618, ref_base=C, new_base=T)> 0.739523888 18/19 25/25\n",
      "<SNP_Evidence(sample=Mid1t2_S1, chr_position=863618, ref_base=C, new_base=T)> 1.0 31/37 31/37\n"
     ]
    }
   ],
   "source": [
    "for mut in mutation_ev_by_gene['moeB']:\n",
    "    print(mut, mut.frequency, mut.new_cov, mut.total_cov)"
   ]
  },
  {
   "cell_type": "code",
   "execution_count": 44,
   "metadata": {},
   "outputs": [],
   "source": [
    "for key in nonsyn_count_dict:\n",
    "    if re.match('moa', key):\n",
    "        print(key, nonsyn_count_dict[key])"
   ]
  },
  {
   "cell_type": "code",
   "execution_count": 45,
   "metadata": {},
   "outputs": [
    {
     "name": "stdout",
     "output_type": "stream",
     "text": [
      "ynjC 4\n"
     ]
    }
   ],
   "source": [
    "for key in nonsyn_count_dict:\n",
    "    if re.match('ynj', key):\n",
    "        print(key, nonsyn_count_dict[key])"
   ]
  },
  {
   "cell_type": "code",
   "execution_count": 46,
   "metadata": {},
   "outputs": [
    {
     "name": "stdout",
     "output_type": "stream",
     "text": [
      "<SNP_Evidence(sample=HiMid3t1_S1, chr_position=1837451, ref_base=G, new_base=T)> 0.0506176949 2/2 40/38\n",
      "<SNP_Evidence(sample=HiMid3t1_S1, chr_position=1837452, ref_base=G, new_base=C)> 0.0584836006 3/2 40/38\n",
      "<SNP_Evidence(sample=HiMid3t1_S1, chr_position=1837453, ref_base=G, new_base=C)> 0.0514974594 2/2 40/38\n",
      "<SNP_Evidence(sample=HiMid3t1_S1, chr_position=1837454, ref_base=G, new_base=A)> 0.0513763428 2/2 40/38\n"
     ]
    }
   ],
   "source": [
    "for mut in mutation_ev_by_gene['ynjC']:\n",
    "    print(mut, mut.frequency, mut.new_cov, mut.total_cov)"
   ]
  },
  {
   "cell_type": "code",
   "execution_count": 47,
   "metadata": {},
   "outputs": [
    {
     "name": "stdout",
     "output_type": "stream",
     "text": [
      "yfhH 1\n"
     ]
    }
   ],
   "source": [
    "for key in nonsyn_count_dict:\n",
    "    if re.match('yfh', key):\n",
    "        print(key, nonsyn_count_dict[key])"
   ]
  },
  {
   "cell_type": "code",
   "execution_count": 48,
   "metadata": {},
   "outputs": [
    {
     "name": "stdout",
     "output_type": "stream",
     "text": [
      "<SNP_Evidence(sample=Hi3t2_S1, chr_position=2698580, ref_base=T, new_base=A)> 0.0722632408 2/2 28/27\n"
     ]
    }
   ],
   "source": [
    "for mut in mutation_ev_by_gene['yfhH']:\n",
    "    print(mut, mut.frequency, mut.new_cov, mut.total_cov)"
   ]
  },
  {
   "cell_type": "code",
   "execution_count": 49,
   "metadata": {},
   "outputs": [],
   "source": [
    "for key in nonsyn_count_dict:\n",
    "    if re.match('yhe', key):\n",
    "        print(key, nonsyn_count_dict[key])"
   ]
  },
  {
   "cell_type": "code",
   "execution_count": 50,
   "metadata": {},
   "outputs": [
    {
     "name": "stdout",
     "output_type": "stream",
     "text": [
      "tusB 1\n"
     ]
    }
   ],
   "source": [
    "for key in nonsyn_count_dict:\n",
    "    if re.match('tus', key):\n",
    "        print(key, nonsyn_count_dict[key])"
   ]
  },
  {
   "cell_type": "code",
   "execution_count": 51,
   "metadata": {},
   "outputs": [
    {
     "name": "stdout",
     "output_type": "stream",
     "text": [
      "<SNP_Evidence(sample=Hi1t2_S1, chr_position=3474803, ref_base=A, new_base=G)> 0.0510034561 3/2 46/48\n"
     ]
    }
   ],
   "source": [
    "for mut in mutation_ev_by_gene['tusB']:\n",
    "    print(mut, mut.frequency, mut.new_cov, mut.total_cov)"
   ]
  },
  {
   "cell_type": "code",
   "execution_count": 52,
   "metadata": {},
   "outputs": [
    {
     "name": "stdout",
     "output_type": "stream",
     "text": [
      "mnmE 1\n"
     ]
    }
   ],
   "source": [
    "for key in nonsyn_count_dict:\n",
    "    if re.match('mnm', key):\n",
    "        print(key, nonsyn_count_dict[key])"
   ]
  },
  {
   "cell_type": "code",
   "execution_count": 53,
   "metadata": {},
   "outputs": [
    {
     "name": "stdout",
     "output_type": "stream",
     "text": [
      "<SNP_Evidence(sample=Hi2t1_S1, chr_position=3888161, ref_base=A, new_base=G)> 0.0675330162 2/2 26/33\n"
     ]
    }
   ],
   "source": [
    "for mut in mutation_ev_by_gene['mnmE']:\n",
    "    print(mut, mut.frequency, mut.new_cov, mut.total_cov)"
   ]
  },
  {
   "cell_type": "code",
   "execution_count": 54,
   "metadata": {},
   "outputs": [],
   "source": [
    "for key in nonsyn_count_dict:\n",
    "    if re.match('ybb', key):\n",
    "        print(key, nonsyn_count_dict[key])"
   ]
  },
  {
   "cell_type": "code",
   "execution_count": 55,
   "metadata": {},
   "outputs": [],
   "source": [
    "for key in nonsyn_count_dict:\n",
    "    if re.match('yaj', key):\n",
    "        print(key, nonsyn_count_dict[key])"
   ]
  },
  {
   "cell_type": "code",
   "execution_count": 56,
   "metadata": {},
   "outputs": [],
   "source": [
    "for key in nonsyn_count_dict:\n",
    "    if re.match('isp', key):\n",
    "        print(key, nonsyn_count_dict[key])"
   ]
  },
  {
   "cell_type": "code",
   "execution_count": 57,
   "metadata": {},
   "outputs": [
    {
     "name": "stdout",
     "output_type": "stream",
     "text": [
      "dxs 1\n"
     ]
    }
   ],
   "source": [
    "for key in nonsyn_count_dict:\n",
    "    if re.match('dxs', key):\n",
    "        print(key, nonsyn_count_dict[key])"
   ]
  },
  {
   "cell_type": "code",
   "execution_count": 58,
   "metadata": {},
   "outputs": [
    {
     "name": "stdout",
     "output_type": "stream",
     "text": [
      "<SNP_Evidence(sample=Lo4t1_S1, chr_position=438688, ref_base=A, new_base=T)> 0.0625696182 2/2 29/29\n"
     ]
    }
   ],
   "source": [
    "for mut in mutation_ev_by_gene['dxs']:\n",
    "    print(mut, mut.frequency, mut.new_cov, mut.total_cov)"
   ]
  },
  {
   "cell_type": "code",
   "execution_count": 59,
   "metadata": {},
   "outputs": [],
   "source": [
    "for key in nonsyn_count_dict:\n",
    "    if re.match('nuv', key):\n",
    "        print(key, nonsyn_count_dict[key])"
   ]
  },
  {
   "cell_type": "code",
   "execution_count": 60,
   "metadata": {},
   "outputs": [],
   "source": [
    "for key in nonsyn_count_dict:\n",
    "    if re.match('nif', key):\n",
    "        print(key, nonsyn_count_dict[key])"
   ]
  },
  {
   "cell_type": "code",
   "execution_count": 61,
   "metadata": {},
   "outputs": [],
   "source": [
    "for key in nonsyn_count_dict:\n",
    "    if re.match('chl', key):\n",
    "        print(key, nonsyn_count_dict[key])"
   ]
  },
  {
   "cell_type": "code",
   "execution_count": 62,
   "metadata": {},
   "outputs": [],
   "source": [
    "for key in nonsyn_count_dict:\n",
    "    if re.match('bis', key):\n",
    "        print(key, nonsyn_count_dict[key])"
   ]
  },
  {
   "cell_type": "code",
   "execution_count": 63,
   "metadata": {},
   "outputs": [],
   "source": [
    "for key in nonsyn_count_dict:\n",
    "    if re.match('mog', key):\n",
    "        print(key, nonsyn_count_dict[key])"
   ]
  },
  {
   "cell_type": "code",
   "execution_count": 64,
   "metadata": {},
   "outputs": [
    {
     "name": "stdout",
     "output_type": "stream",
     "text": [
      "yhhS 1\n"
     ]
    }
   ],
   "source": [
    "for key in nonsyn_count_dict:\n",
    "    if re.match('yhh', key):\n",
    "        print(key, nonsyn_count_dict[key])"
   ]
  },
  {
   "cell_type": "code",
   "execution_count": 65,
   "metadata": {},
   "outputs": [
    {
     "name": "stdout",
     "output_type": "stream",
     "text": [
      "<SNP_Evidence(sample=HiMid1t2_S1, chr_position=3611575, ref_base=A, new_base=G)> 0.0633859634 2/2 27/36\n"
     ]
    }
   ],
   "source": [
    "for mut in mutation_ev_by_gene['yhhS']:\n",
    "    print(mut, mut.frequency, mut.new_cov, mut.total_cov)"
   ]
  },
  {
   "cell_type": "code",
   "execution_count": 66,
   "metadata": {},
   "outputs": [],
   "source": [
    "for key in nonsyn_count_dict:\n",
    "    if re.match('ybb', key):\n",
    "        print(key, nonsyn_count_dict[key])"
   ]
  },
  {
   "cell_type": "code",
   "execution_count": 67,
   "metadata": {},
   "outputs": [],
   "source": [
    "for key in nonsyn_count_dict:\n",
    "    if re.match('sir', key):\n",
    "        print(key, nonsyn_count_dict[key])"
   ]
  },
  {
   "cell_type": "code",
   "execution_count": 68,
   "metadata": {},
   "outputs": [],
   "source": [
    "for key in nonsyn_count_dict:\n",
    "    if re.match('trm', key):\n",
    "        print(key, nonsyn_count_dict[key])"
   ]
  },
  {
   "cell_type": "code",
   "execution_count": 69,
   "metadata": {},
   "outputs": [],
   "source": [
    "for key in nonsyn_count_dict:\n",
    "    if re.match('thd', key):\n",
    "        print(key, nonsyn_count_dict[key])"
   ]
  },
  {
   "cell_type": "code",
   "execution_count": null,
   "metadata": {},
   "outputs": [],
   "source": []
  }
 ],
 "metadata": {
  "kernelspec": {
   "display_name": "Python 3",
   "language": "python",
   "name": "python3"
  },
  "language_info": {
   "codemirror_mode": {
    "name": "ipython",
    "version": 3
   },
   "file_extension": ".py",
   "mimetype": "text/x-python",
   "name": "python",
   "nbconvert_exporter": "python",
   "pygments_lexer": "ipython3",
   "version": "3.7.3"
  }
 },
 "nbformat": 4,
 "nbformat_minor": 2
}
